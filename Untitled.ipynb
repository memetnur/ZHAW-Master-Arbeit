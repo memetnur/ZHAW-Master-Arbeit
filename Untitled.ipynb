{
 "cells": [
  {
   "cell_type": "code",
   "execution_count": 4,
   "id": "4474df8b",
   "metadata": {},
   "outputs": [],
   "source": [
    "\"\"\"\n",
    "title: CRISPR Analysis Program of E. amylovora \n",
    "author: Memeti Nurdzane\n",
    "date: June 2021\n",
    "mail: memetnur@students.zhaw.ch\n",
    "supervisor: theo smits\n",
    "\n",
    "\"\"\"\n",
    "#Import packages and data\n",
    "import pandas as pd\n",
    "import numpy as np\n",
    "\n",
    "# create a dataframe (df) where we import data from excel. note that no entry is labelled here as \"NaN\". \n",
    "df = pd.read_excel('Rubus_CRISPRs_sequence_analysis.xlsx', 'CRR3')"
   ]
  },
  {
   "cell_type": "code",
   "execution_count": 5,
   "id": "8c790554",
   "metadata": {},
   "outputs": [
    {
     "output_type": "execute_result",
     "data": {
      "text/plain": [
       "               Ea02_03_NZ_JAAEWG010000099         Ea03_03_NZ_JAAEWF010000099  \\\n",
       "0                                >spacer1                           >spacer1   \n",
       "1         TTACGTTTGCGTTAACAGTAAGCTCTGCAAC    TTACGTTTGCGTTAACAGTAAGCTCTGCAAC   \n",
       "2                                >spacer2                           >spacer2   \n",
       "3        GGCTAAATGCCTGAATTCAACGTTCTACAAAA   GGCTAAATGCCTGAATTCAACGTTCTACAAAA   \n",
       "4                                >spacer3                           >spacer3   \n",
       "5    GAAAATCGCACCCCACTGATTGAAGAGCAGCACACT   ATCGCACCCCACTGATTGAAGAGCAGCACACT   \n",
       "6                                >spacer4                           >spacer4   \n",
       "7    TAAAGAGCAATATATTCGATAGACGCTGATTTGCGT   GAGCAATATATTCGATAGACGCTGATTTGCGT   \n",
       "8                                >spacer5                           >spacer5   \n",
       "9    GAAATGGCTTCAATTGCGGTCGGGTGTGATGCATCA   TGGCTTCAATTGCGGTCGGGTGTGATGCATCA   \n",
       "10                               >spacer6                           >spacer6   \n",
       "11  GAAAGCCAACGTTCACTGTCATTTAGCCACGCTTCGG  GCCAACGTTCACTGTCATTTAGCCACGCTTCGG   \n",
       "12                                    NaN                                NaN   \n",
       "\n",
       "            Ea1_95_NZ_JAAEVV010000099              Ea6_96_NZ_JAAEVB010000099  \\\n",
       "0                            >spacer1                               >spacer1   \n",
       "1    CCAGAGGACAACTTTCCGCCTTTTCTCTGCGT    GAATTTACGTTTGCGTTAACAGTAAGCTCTGCAAC   \n",
       "2                            >spacer2                               >spacer2   \n",
       "3    AGGTGGCGGAATACGGCAACGAGTGGATAACT   GAAAGGCTAAATGCCTGAATTCAACGTTCTACAAAA   \n",
       "4                            >spacer3                               >spacer3   \n",
       "5    CGGATCACCTCTTCGCCCAGCCAGCTGTTCAG   GAAAATCGCACCCCACTGATTGAAGAGCAGCACACT   \n",
       "6                            >spacer4                               >spacer4   \n",
       "7   GAGCAATATATTCGATAGACGCTGATTTGCGT    TAAAGAGCAATATATTCGATAGACGCTGATTTGCGT   \n",
       "8                            >spacer5                               >spacer5   \n",
       "9    TGGCTTCAATTGCGGTCGGGTGTGATGCATCA   GAAATGGCTTCAATTGCGGTCGGGTGTGATGCATCA   \n",
       "10                           >spacer6                               >spacer6   \n",
       "11  GCCAACGTTCACTGTCATTTAGCCACGCTTCGG  GAAAGCCAACGTTCACTGTCATTTAGCCACGCTTCGG   \n",
       "12                                NaN                                    NaN   \n",
       "\n",
       "   Ea8_96_NZ_JAAEUY010000099_reversed             Ea04_03_NZ_JAAEWE010000099  \\\n",
       "0                            >spacer1                               >spacer1   \n",
       "1    ATCGCACCCCACTGATTGAAGAGCAGCACACT    GAATTTACGTTTGCGTTAACAGTAAGCTCTGCAAC   \n",
       "2                            >spacer2                               >spacer2   \n",
       "3    GAGCAATATATTCGATAGACGCTGATTTGCGT   GAAAGGCTAAATGCCTGAATTCAACGTTCTACAAAA   \n",
       "4                            >spacer3                               >spacer3   \n",
       "5    TGGCTTCAATTGCGGTCGGGTGTGATGCATCA   GAAAATCGCACCCCACTGATTGAAGAGCAGCACACT   \n",
       "6                            >spacer4                               >spacer4   \n",
       "7   GCCAACGTTCACTGTCATTTAGCCACGCTTCGG   TAAAGAGCAATATATTCGATAGACGCTGATTTGCGT   \n",
       "8                                 NaN                               >spacer5   \n",
       "9                                 NaN   GAAATGGCTTCAATTGCGGTCGGGTGTGATGCATCA   \n",
       "10                                NaN                               >spacer6   \n",
       "11                                NaN  GAAAGCCAACGTTCACTGTCATTTAGCCACGCTTCGG   \n",
       "12                                NaN                                    NaN   \n",
       "\n",
       "            Ea1_98_NZ_JAAEVT010000099  \\\n",
       "0                            >spacer1   \n",
       "1     TTACGTTTGCGTTAACAGTAAGCTCTGCAAC   \n",
       "2                            >spacer2   \n",
       "3    GGCTAAATGCCTGAATTCAACGTTCTACAAAA   \n",
       "4                            >spacer3   \n",
       "5    ATCGCACCCCACTGATTGAAGAGCAGCACACT   \n",
       "6                            >spacer4   \n",
       "7    GAGCAATATATTCGATAGACGCTGATTTGCGT   \n",
       "8                            >spacer5   \n",
       "9    TGGCTTCAATTGCGGTCGGGTGTGATGCATCA   \n",
       "10                           >spacer6   \n",
       "11  GCCAACGTTCACTGTCATTTAGCCACGCTTCGG   \n",
       "12                                NaN   \n",
       "\n",
       "   Ea7_96_NZ_JAAEUZ010000099_4bases deleted  \\\n",
       "0                                  >spacer1   \n",
       "1           TTACGTTTGCGTTAACAGTAAGCTCTGCAAC   \n",
       "2                                  >spacer2   \n",
       "3          GGCTAAATGCCTGAATTCAACGTTCTACAAAA   \n",
       "4                                  >spacer3   \n",
       "5          ATCGCACCCCACTGATTGAAGAGCAGCACACT   \n",
       "6                                  >spacer4   \n",
       "7          GAGCAATATATTCGATAGACGCTGATTTGCGT   \n",
       "8                                  >spacer5   \n",
       "9          TGGCTTCAATTGCGGTCGGGTGTGATGCATCA   \n",
       "10                                 >spacer6   \n",
       "11        GCCAACGTTCACTGTCATTTAGCCACGCTTCGG   \n",
       "12                                      NaN   \n",
       "\n",
       "                Ea2_95_NZ_JAAEVS010000009         EaLevo2_NZ_JAAEUQ010000009  \\\n",
       "0                                >spacer1                           >spacer1   \n",
       "1     GAATTTACGTTTGCGTTAACAGTAAGCTCTGCAAC    TTACGTTTGCGTTAACAGTAAGCTCTGCAAC   \n",
       "2                                >spacer2                           >spacer2   \n",
       "3    GAAAGGCTAAATGCCTGAATTCAACGTTCTACAAAA   GGCTAAATGCCTGAATTCAACGTTCTACAAAA   \n",
       "4                                >spacer3                           >spacer3   \n",
       "5    GAAAATCGCACCCCACTGATTGAAGAGCAGCACACT   ATCGCACCCCACTGATTGAAGAGCAGCACACT   \n",
       "6                                >spacer4                           >spacer4   \n",
       "7    TAAAGAGCAATATATTCGATAGACGCTGATTTGCGT   GAGCAATATATTCGATAGACGCTGATTTGCGT   \n",
       "8                                >spacer5                           >spacer5   \n",
       "9    GAAATGGCTTCAATTGCGGTCGGGTGTGATGCATCA   TGGCTTCAATTGCGGTCGGGTGTGATGCATCA   \n",
       "10                               >spacer6                           >spacer6   \n",
       "11  GAAAGCCAACGTTCACTGTCATTTAGCCACGCTTCGG  GCCAACGTTCACTGTCATTTAGCCACGCTTCGG   \n",
       "12                                    NaN                                NaN   \n",
       "\n",
       "            Ea1_97_NZ_JAAEVU010000099              Ea2_97_NZ_JAAEVQ010000099  \\\n",
       "0                            >spacer1                               >spacer1   \n",
       "1     TTACGTTTGCGTTAACAGTAAGCTCTGCAAC    GAATTTACGTTTGCGTTAACAGTAAGCTCTGCAAC   \n",
       "2                            >spacer2                               >spacer2   \n",
       "3    GAGCAATATATTCGATAGACGCTGATTTGCGT   GAAAGGCTAAATGCCTGAATTCAACGTTCTACAAAA   \n",
       "4                            >spacer3                               >spacer3   \n",
       "5    TGGCTTCAATTGCGGTCGGGTGTGATGCATCA   GAAAATCGCACCCCACTGATTGAAGAGCAGCACACT   \n",
       "6                            >spacer4                               >spacer4   \n",
       "7   GCCAACGTTCACTGTCATTTAGCCACGCTTCGG   TAAAGAGCAATATATTCGATAGACGCTGATTTGCGT   \n",
       "8                                 NaN                               >spacer5   \n",
       "9                                 NaN   GAAATGGCTTCAATTGCGGTCGGGTGTGATGCATCA   \n",
       "10                                NaN                               >spacer6   \n",
       "11                                NaN  GAAAGCCAACGTTCACTGTCATTTAGCCACGCTTCGG   \n",
       "12                                NaN                    vier basen am afang   \n",
       "\n",
       "            Ea3_97_NZ_JAAEVM010000099  \\\n",
       "0                            >spacer1   \n",
       "1     TTACGTTTGCGTTAACAGTAAGCTCTGCAAC   \n",
       "2                            >spacer2   \n",
       "3    GGCTAAATGCCTGAATTCAACGTTCTACAAAA   \n",
       "4                            >spacer3   \n",
       "5    ATCGCACCCCACTGATTGAAGAGCAGCACACT   \n",
       "6                            >spacer4   \n",
       "7    GAGCAATATATTCGATAGACGCTGATTTGCGT   \n",
       "8                            >spacer5   \n",
       "9    TGGCTTCAATTGCGGTCGGGTGTGATGCATCA   \n",
       "10                           >spacer6   \n",
       "11  GCCAACGTTCACTGTCATTTAGCCACGCTTCGG   \n",
       "12                                NaN   \n",
       "\n",
       "   Ea4_96_NZ_JAAEVG010000099_reverse_complement  \\\n",
       "0                                      >spacer1   \n",
       "1              TTACGTTTGCGTTAACAGTAAGCTCTGCAAC    \n",
       "2                                      >spacer2   \n",
       "3              GGCTAAATGCCTGAATTCAACGTTCTACAAAA   \n",
       "4                                      >spacer3   \n",
       "5              ATCGCACCCCACTGATTGAAGAGCAGCACACT   \n",
       "6                                      >spacer4   \n",
       "7              GAGCAATATATTCGATAGACGCTGATTTGCGT   \n",
       "8                                      >spacer5   \n",
       "9              TGGCTTCAATTGCGGTCGGGTGTGATGCATCA   \n",
       "10                                     >spacer6   \n",
       "11            GCCAACGTTCACTGTCATTTAGCCACGCTTCGG   \n",
       "12                                          NaN   \n",
       "\n",
       "              Ea644_NZ_CAPD00000000.1                MR1_NZ_CAPE00000000  \n",
       "0                            >spacer1                           >spacer1  \n",
       "1     TTACGTTTGCGTTAACAGTAAGCTCTGCAAC    TTACGTTTGCGTTAACAGTAAGCTCTGCAAC  \n",
       "2                            >spacer2                           >spacer2  \n",
       "3    GGCTAAATGCCTGAATTCAACGTTCTACAAAA   GGCTAAATGCCTGAATTCAACGTTCTACAAAA  \n",
       "4                            >spacer3                           >spacer3  \n",
       "5    ATCGCACCCCACTGATTGAAGAGCAGCACACT   ATCGCACCCCACTGATTGAAGAGCAGCACACT  \n",
       "6                            >spacer4                           >spacer4  \n",
       "7    GAGCAATATATTCGATAGACGCTGATTTGCGT   GAGCAATATATTCGATAGACGCTGATTTGCGT  \n",
       "8                            >spacer5                           >spacer5  \n",
       "9    TGGCTTCAATTGCGGTCGGGTGTGATGCATCA   TGGCTTCAATTGCGGTCGGGTGTGATGCATCA  \n",
       "10                           >spacer6                           >spacer6  \n",
       "11  GCCAACGTTCACTGTCATTTAGCCACGCTTCGG  GCCAACGTTCACTGTCATTTAGCCACGCTTCGG  \n",
       "12                                NaN                                NaN  "
      ],
      "text/html": "<div>\n<style scoped>\n    .dataframe tbody tr th:only-of-type {\n        vertical-align: middle;\n    }\n\n    .dataframe tbody tr th {\n        vertical-align: top;\n    }\n\n    .dataframe thead th {\n        text-align: right;\n    }\n</style>\n<table border=\"1\" class=\"dataframe\">\n  <thead>\n    <tr style=\"text-align: right;\">\n      <th></th>\n      <th>Ea02_03_NZ_JAAEWG010000099</th>\n      <th>Ea03_03_NZ_JAAEWF010000099</th>\n      <th>Ea1_95_NZ_JAAEVV010000099</th>\n      <th>Ea6_96_NZ_JAAEVB010000099</th>\n      <th>Ea8_96_NZ_JAAEUY010000099_reversed</th>\n      <th>Ea04_03_NZ_JAAEWE010000099</th>\n      <th>Ea1_98_NZ_JAAEVT010000099</th>\n      <th>Ea7_96_NZ_JAAEUZ010000099_4bases deleted</th>\n      <th>Ea2_95_NZ_JAAEVS010000009</th>\n      <th>EaLevo2_NZ_JAAEUQ010000009</th>\n      <th>Ea1_97_NZ_JAAEVU010000099</th>\n      <th>Ea2_97_NZ_JAAEVQ010000099</th>\n      <th>Ea3_97_NZ_JAAEVM010000099</th>\n      <th>Ea4_96_NZ_JAAEVG010000099_reverse_complement</th>\n      <th>Ea644_NZ_CAPD00000000.1</th>\n      <th>MR1_NZ_CAPE00000000</th>\n    </tr>\n  </thead>\n  <tbody>\n    <tr>\n      <th>0</th>\n      <td>&gt;spacer1</td>\n      <td>&gt;spacer1</td>\n      <td>&gt;spacer1</td>\n      <td>&gt;spacer1</td>\n      <td>&gt;spacer1</td>\n      <td>&gt;spacer1</td>\n      <td>&gt;spacer1</td>\n      <td>&gt;spacer1</td>\n      <td>&gt;spacer1</td>\n      <td>&gt;spacer1</td>\n      <td>&gt;spacer1</td>\n      <td>&gt;spacer1</td>\n      <td>&gt;spacer1</td>\n      <td>&gt;spacer1</td>\n      <td>&gt;spacer1</td>\n      <td>&gt;spacer1</td>\n    </tr>\n    <tr>\n      <th>1</th>\n      <td>TTACGTTTGCGTTAACAGTAAGCTCTGCAAC</td>\n      <td>TTACGTTTGCGTTAACAGTAAGCTCTGCAAC</td>\n      <td>CCAGAGGACAACTTTCCGCCTTTTCTCTGCGT</td>\n      <td>GAATTTACGTTTGCGTTAACAGTAAGCTCTGCAAC</td>\n      <td>ATCGCACCCCACTGATTGAAGAGCAGCACACT</td>\n      <td>GAATTTACGTTTGCGTTAACAGTAAGCTCTGCAAC</td>\n      <td>TTACGTTTGCGTTAACAGTAAGCTCTGCAAC</td>\n      <td>TTACGTTTGCGTTAACAGTAAGCTCTGCAAC</td>\n      <td>GAATTTACGTTTGCGTTAACAGTAAGCTCTGCAAC</td>\n      <td>TTACGTTTGCGTTAACAGTAAGCTCTGCAAC</td>\n      <td>TTACGTTTGCGTTAACAGTAAGCTCTGCAAC</td>\n      <td>GAATTTACGTTTGCGTTAACAGTAAGCTCTGCAAC</td>\n      <td>TTACGTTTGCGTTAACAGTAAGCTCTGCAAC</td>\n      <td>TTACGTTTGCGTTAACAGTAAGCTCTGCAAC</td>\n      <td>TTACGTTTGCGTTAACAGTAAGCTCTGCAAC</td>\n      <td>TTACGTTTGCGTTAACAGTAAGCTCTGCAAC</td>\n    </tr>\n    <tr>\n      <th>2</th>\n      <td>&gt;spacer2</td>\n      <td>&gt;spacer2</td>\n      <td>&gt;spacer2</td>\n      <td>&gt;spacer2</td>\n      <td>&gt;spacer2</td>\n      <td>&gt;spacer2</td>\n      <td>&gt;spacer2</td>\n      <td>&gt;spacer2</td>\n      <td>&gt;spacer2</td>\n      <td>&gt;spacer2</td>\n      <td>&gt;spacer2</td>\n      <td>&gt;spacer2</td>\n      <td>&gt;spacer2</td>\n      <td>&gt;spacer2</td>\n      <td>&gt;spacer2</td>\n      <td>&gt;spacer2</td>\n    </tr>\n    <tr>\n      <th>3</th>\n      <td>GGCTAAATGCCTGAATTCAACGTTCTACAAAA</td>\n      <td>GGCTAAATGCCTGAATTCAACGTTCTACAAAA</td>\n      <td>AGGTGGCGGAATACGGCAACGAGTGGATAACT</td>\n      <td>GAAAGGCTAAATGCCTGAATTCAACGTTCTACAAAA</td>\n      <td>GAGCAATATATTCGATAGACGCTGATTTGCGT</td>\n      <td>GAAAGGCTAAATGCCTGAATTCAACGTTCTACAAAA</td>\n      <td>GGCTAAATGCCTGAATTCAACGTTCTACAAAA</td>\n      <td>GGCTAAATGCCTGAATTCAACGTTCTACAAAA</td>\n      <td>GAAAGGCTAAATGCCTGAATTCAACGTTCTACAAAA</td>\n      <td>GGCTAAATGCCTGAATTCAACGTTCTACAAAA</td>\n      <td>GAGCAATATATTCGATAGACGCTGATTTGCGT</td>\n      <td>GAAAGGCTAAATGCCTGAATTCAACGTTCTACAAAA</td>\n      <td>GGCTAAATGCCTGAATTCAACGTTCTACAAAA</td>\n      <td>GGCTAAATGCCTGAATTCAACGTTCTACAAAA</td>\n      <td>GGCTAAATGCCTGAATTCAACGTTCTACAAAA</td>\n      <td>GGCTAAATGCCTGAATTCAACGTTCTACAAAA</td>\n    </tr>\n    <tr>\n      <th>4</th>\n      <td>&gt;spacer3</td>\n      <td>&gt;spacer3</td>\n      <td>&gt;spacer3</td>\n      <td>&gt;spacer3</td>\n      <td>&gt;spacer3</td>\n      <td>&gt;spacer3</td>\n      <td>&gt;spacer3</td>\n      <td>&gt;spacer3</td>\n      <td>&gt;spacer3</td>\n      <td>&gt;spacer3</td>\n      <td>&gt;spacer3</td>\n      <td>&gt;spacer3</td>\n      <td>&gt;spacer3</td>\n      <td>&gt;spacer3</td>\n      <td>&gt;spacer3</td>\n      <td>&gt;spacer3</td>\n    </tr>\n    <tr>\n      <th>5</th>\n      <td>GAAAATCGCACCCCACTGATTGAAGAGCAGCACACT</td>\n      <td>ATCGCACCCCACTGATTGAAGAGCAGCACACT</td>\n      <td>CGGATCACCTCTTCGCCCAGCCAGCTGTTCAG</td>\n      <td>GAAAATCGCACCCCACTGATTGAAGAGCAGCACACT</td>\n      <td>TGGCTTCAATTGCGGTCGGGTGTGATGCATCA</td>\n      <td>GAAAATCGCACCCCACTGATTGAAGAGCAGCACACT</td>\n      <td>ATCGCACCCCACTGATTGAAGAGCAGCACACT</td>\n      <td>ATCGCACCCCACTGATTGAAGAGCAGCACACT</td>\n      <td>GAAAATCGCACCCCACTGATTGAAGAGCAGCACACT</td>\n      <td>ATCGCACCCCACTGATTGAAGAGCAGCACACT</td>\n      <td>TGGCTTCAATTGCGGTCGGGTGTGATGCATCA</td>\n      <td>GAAAATCGCACCCCACTGATTGAAGAGCAGCACACT</td>\n      <td>ATCGCACCCCACTGATTGAAGAGCAGCACACT</td>\n      <td>ATCGCACCCCACTGATTGAAGAGCAGCACACT</td>\n      <td>ATCGCACCCCACTGATTGAAGAGCAGCACACT</td>\n      <td>ATCGCACCCCACTGATTGAAGAGCAGCACACT</td>\n    </tr>\n    <tr>\n      <th>6</th>\n      <td>&gt;spacer4</td>\n      <td>&gt;spacer4</td>\n      <td>&gt;spacer4</td>\n      <td>&gt;spacer4</td>\n      <td>&gt;spacer4</td>\n      <td>&gt;spacer4</td>\n      <td>&gt;spacer4</td>\n      <td>&gt;spacer4</td>\n      <td>&gt;spacer4</td>\n      <td>&gt;spacer4</td>\n      <td>&gt;spacer4</td>\n      <td>&gt;spacer4</td>\n      <td>&gt;spacer4</td>\n      <td>&gt;spacer4</td>\n      <td>&gt;spacer4</td>\n      <td>&gt;spacer4</td>\n    </tr>\n    <tr>\n      <th>7</th>\n      <td>TAAAGAGCAATATATTCGATAGACGCTGATTTGCGT</td>\n      <td>GAGCAATATATTCGATAGACGCTGATTTGCGT</td>\n      <td>GAGCAATATATTCGATAGACGCTGATTTGCGT</td>\n      <td>TAAAGAGCAATATATTCGATAGACGCTGATTTGCGT</td>\n      <td>GCCAACGTTCACTGTCATTTAGCCACGCTTCGG</td>\n      <td>TAAAGAGCAATATATTCGATAGACGCTGATTTGCGT</td>\n      <td>GAGCAATATATTCGATAGACGCTGATTTGCGT</td>\n      <td>GAGCAATATATTCGATAGACGCTGATTTGCGT</td>\n      <td>TAAAGAGCAATATATTCGATAGACGCTGATTTGCGT</td>\n      <td>GAGCAATATATTCGATAGACGCTGATTTGCGT</td>\n      <td>GCCAACGTTCACTGTCATTTAGCCACGCTTCGG</td>\n      <td>TAAAGAGCAATATATTCGATAGACGCTGATTTGCGT</td>\n      <td>GAGCAATATATTCGATAGACGCTGATTTGCGT</td>\n      <td>GAGCAATATATTCGATAGACGCTGATTTGCGT</td>\n      <td>GAGCAATATATTCGATAGACGCTGATTTGCGT</td>\n      <td>GAGCAATATATTCGATAGACGCTGATTTGCGT</td>\n    </tr>\n    <tr>\n      <th>8</th>\n      <td>&gt;spacer5</td>\n      <td>&gt;spacer5</td>\n      <td>&gt;spacer5</td>\n      <td>&gt;spacer5</td>\n      <td>NaN</td>\n      <td>&gt;spacer5</td>\n      <td>&gt;spacer5</td>\n      <td>&gt;spacer5</td>\n      <td>&gt;spacer5</td>\n      <td>&gt;spacer5</td>\n      <td>NaN</td>\n      <td>&gt;spacer5</td>\n      <td>&gt;spacer5</td>\n      <td>&gt;spacer5</td>\n      <td>&gt;spacer5</td>\n      <td>&gt;spacer5</td>\n    </tr>\n    <tr>\n      <th>9</th>\n      <td>GAAATGGCTTCAATTGCGGTCGGGTGTGATGCATCA</td>\n      <td>TGGCTTCAATTGCGGTCGGGTGTGATGCATCA</td>\n      <td>TGGCTTCAATTGCGGTCGGGTGTGATGCATCA</td>\n      <td>GAAATGGCTTCAATTGCGGTCGGGTGTGATGCATCA</td>\n      <td>NaN</td>\n      <td>GAAATGGCTTCAATTGCGGTCGGGTGTGATGCATCA</td>\n      <td>TGGCTTCAATTGCGGTCGGGTGTGATGCATCA</td>\n      <td>TGGCTTCAATTGCGGTCGGGTGTGATGCATCA</td>\n      <td>GAAATGGCTTCAATTGCGGTCGGGTGTGATGCATCA</td>\n      <td>TGGCTTCAATTGCGGTCGGGTGTGATGCATCA</td>\n      <td>NaN</td>\n      <td>GAAATGGCTTCAATTGCGGTCGGGTGTGATGCATCA</td>\n      <td>TGGCTTCAATTGCGGTCGGGTGTGATGCATCA</td>\n      <td>TGGCTTCAATTGCGGTCGGGTGTGATGCATCA</td>\n      <td>TGGCTTCAATTGCGGTCGGGTGTGATGCATCA</td>\n      <td>TGGCTTCAATTGCGGTCGGGTGTGATGCATCA</td>\n    </tr>\n    <tr>\n      <th>10</th>\n      <td>&gt;spacer6</td>\n      <td>&gt;spacer6</td>\n      <td>&gt;spacer6</td>\n      <td>&gt;spacer6</td>\n      <td>NaN</td>\n      <td>&gt;spacer6</td>\n      <td>&gt;spacer6</td>\n      <td>&gt;spacer6</td>\n      <td>&gt;spacer6</td>\n      <td>&gt;spacer6</td>\n      <td>NaN</td>\n      <td>&gt;spacer6</td>\n      <td>&gt;spacer6</td>\n      <td>&gt;spacer6</td>\n      <td>&gt;spacer6</td>\n      <td>&gt;spacer6</td>\n    </tr>\n    <tr>\n      <th>11</th>\n      <td>GAAAGCCAACGTTCACTGTCATTTAGCCACGCTTCGG</td>\n      <td>GCCAACGTTCACTGTCATTTAGCCACGCTTCGG</td>\n      <td>GCCAACGTTCACTGTCATTTAGCCACGCTTCGG</td>\n      <td>GAAAGCCAACGTTCACTGTCATTTAGCCACGCTTCGG</td>\n      <td>NaN</td>\n      <td>GAAAGCCAACGTTCACTGTCATTTAGCCACGCTTCGG</td>\n      <td>GCCAACGTTCACTGTCATTTAGCCACGCTTCGG</td>\n      <td>GCCAACGTTCACTGTCATTTAGCCACGCTTCGG</td>\n      <td>GAAAGCCAACGTTCACTGTCATTTAGCCACGCTTCGG</td>\n      <td>GCCAACGTTCACTGTCATTTAGCCACGCTTCGG</td>\n      <td>NaN</td>\n      <td>GAAAGCCAACGTTCACTGTCATTTAGCCACGCTTCGG</td>\n      <td>GCCAACGTTCACTGTCATTTAGCCACGCTTCGG</td>\n      <td>GCCAACGTTCACTGTCATTTAGCCACGCTTCGG</td>\n      <td>GCCAACGTTCACTGTCATTTAGCCACGCTTCGG</td>\n      <td>GCCAACGTTCACTGTCATTTAGCCACGCTTCGG</td>\n    </tr>\n    <tr>\n      <th>12</th>\n      <td>NaN</td>\n      <td>NaN</td>\n      <td>NaN</td>\n      <td>NaN</td>\n      <td>NaN</td>\n      <td>NaN</td>\n      <td>NaN</td>\n      <td>NaN</td>\n      <td>NaN</td>\n      <td>NaN</td>\n      <td>NaN</td>\n      <td>vier basen am afang</td>\n      <td>NaN</td>\n      <td>NaN</td>\n      <td>NaN</td>\n      <td>NaN</td>\n    </tr>\n  </tbody>\n</table>\n</div>"
     },
     "metadata": {},
     "execution_count": 5
    }
   ],
   "source": [
    "df "
   ]
  },
  {
   "cell_type": "code",
   "execution_count": 6,
   "id": "5a0511fd",
   "metadata": {},
   "outputs": [
    {
     "output_type": "stream",
     "name": "stdout",
     "text": [
      "Requirement already satisfied: biopython in /usr/local/anaconda3/lib/python3.8/site-packages (1.79)\nRequirement already satisfied: numpy in /usr/local/anaconda3/lib/python3.8/site-packages (from biopython) (1.20.1)\n"
     ]
    }
   ],
   "source": [
    "!pip install biopython"
   ]
  },
  {
   "cell_type": "code",
   "execution_count": 15,
   "id": "66020415",
   "metadata": {},
   "outputs": [],
   "source": [
    "### Create a dictionary, where strains are stored in key format and spacers stored in values. Note that dictionary elements are accessed via keys, not their position/order. \n",
    "\n",
    "dic = {}\n",
    "keys = list(df.clumns) # keys variables stored as strain names and made a list form of it due data format of \"df.columns\" is in pandas.core.indexes.base.Index\n",
    "values = []\n",
    "#len(keys) #check up how many strains?\n"
   ]
  },
  {
   "cell_type": "code",
   "execution_count": 27,
   "metadata": {},
   "outputs": [
    {
     "output_type": "stream",
     "name": "stdout",
     "text": [
      "Ea02_03_NZ_JAAEWG010000099\n"
     ]
    },
    {
     "output_type": "error",
     "ename": "AttributeError",
     "evalue": "'float' object has no attribute 'startswith'",
     "traceback": [
      "\u001b[0;31m---------------------------------------------------------------------------\u001b[0m",
      "\u001b[0;31mAttributeError\u001b[0m                            Traceback (most recent call last)",
      "\u001b[0;32m<ipython-input-27-32a07ae717c4>\u001b[0m in \u001b[0;36m<module>\u001b[0;34m\u001b[0m\n\u001b[1;32m      5\u001b[0m     \u001b[0mtemp\u001b[0m \u001b[0;34m=\u001b[0m \u001b[0;34m[\u001b[0m\u001b[0;34m]\u001b[0m\u001b[0;34m\u001b[0m\u001b[0;34m\u001b[0m\u001b[0m\n\u001b[1;32m      6\u001b[0m     \u001b[0;32mfor\u001b[0m \u001b[0mval\u001b[0m \u001b[0;32min\u001b[0m \u001b[0mdf\u001b[0m\u001b[0;34m.\u001b[0m\u001b[0mloc\u001b[0m\u001b[0;34m[\u001b[0m\u001b[0;34m:\u001b[0m\u001b[0;34m,\u001b[0m\u001b[0mkey\u001b[0m\u001b[0;34m]\u001b[0m\u001b[0;34m:\u001b[0m \u001b[0;31m#variables val stands for the line entries, note here that datatype of val is string and float. Float object has no attribute \"startswith\"\u001b[0m\u001b[0;34m\u001b[0m\u001b[0;34m\u001b[0m\u001b[0m\n\u001b[0;32m----> 7\u001b[0;31m         \u001b[0;32mif\u001b[0m \u001b[0mval\u001b[0m\u001b[0;34m.\u001b[0m\u001b[0mstartswith\u001b[0m\u001b[0;34m(\u001b[0m\u001b[0;34m'>spacer'\u001b[0m\u001b[0;34m)\u001b[0m\u001b[0;34m:\u001b[0m \u001b[0;31m#error: 'float' object has no attribute 'startswith'\u001b[0m\u001b[0;34m\u001b[0m\u001b[0;34m\u001b[0m\u001b[0m\n\u001b[0m\u001b[1;32m      8\u001b[0m             \u001b[0;32mNone\u001b[0m\u001b[0;34m\u001b[0m\u001b[0;34m\u001b[0m\u001b[0m\n\u001b[1;32m      9\u001b[0m         \u001b[0;32melse\u001b[0m\u001b[0;34m:\u001b[0m\u001b[0;34m\u001b[0m\u001b[0;34m\u001b[0m\u001b[0m\n",
      "\u001b[0;31mAttributeError\u001b[0m: 'float' object has no attribute 'startswith'"
     ]
    }
   ],
   "source": [
    "### Spacers are stored from Dataframe (=df.loc) into a list (=values) and put into the dictionary \"dic\". Now we have our first dictionary with strains as keys and spacers as values stored.\n",
    "\n",
    "for key in keys: #key = a loop through all strains\n",
    "    print(key)\n",
    "    temp = []\n",
    "    for val in df.loc[:,key]: #variables val stands for the line entries, note here that datatype of val is string and float. Float object has no attribute \"startswith\"\n",
    "        if val.startswith('>spacer'): #error: 'float' object has no attribute 'startswith'\n",
    "            None\n",
    "        else:\n",
    "            None\n",
    "    \n",
    "\n"
   ]
  },
  {
   "cell_type": "code",
   "execution_count": null,
   "metadata": {},
   "outputs": [],
   "source": []
  },
  {
   "cell_type": "code",
   "execution_count": null,
   "metadata": {},
   "outputs": [],
   "source": []
  },
  {
   "cell_type": "code",
   "execution_count": null,
   "metadata": {},
   "outputs": [],
   "source": []
  },
  {
   "cell_type": "code",
   "execution_count": null,
   "metadata": {},
   "outputs": [],
   "source": []
  },
  {
   "cell_type": "code",
   "execution_count": null,
   "metadata": {},
   "outputs": [],
   "source": []
  },
  {
   "cell_type": "code",
   "execution_count": null,
   "metadata": {},
   "outputs": [],
   "source": []
  },
  {
   "cell_type": "code",
   "execution_count": null,
   "metadata": {},
   "outputs": [],
   "source": []
  },
  {
   "cell_type": "code",
   "execution_count": null,
   "metadata": {},
   "outputs": [],
   "source": []
  },
  {
   "cell_type": "code",
   "execution_count": null,
   "metadata": {},
   "outputs": [],
   "source": []
  },
  {
   "cell_type": "code",
   "execution_count": null,
   "metadata": {},
   "outputs": [],
   "source": []
  },
  {
   "cell_type": "code",
   "execution_count": null,
   "metadata": {},
   "outputs": [],
   "source": []
  },
  {
   "cell_type": "code",
   "execution_count": null,
   "metadata": {},
   "outputs": [],
   "source": []
  }
 ],
 "metadata": {
  "kernelspec": {
   "name": "python3",
   "display_name": "Python 3.8.8 64-bit ('base': conda)"
  },
  "language_info": {
   "codemirror_mode": {
    "name": "ipython",
    "version": 3
   },
   "file_extension": ".py",
   "mimetype": "text/x-python",
   "name": "python",
   "nbconvert_exporter": "python",
   "pygments_lexer": "ipython3",
   "version": "3.8.8"
  },
  "interpreter": {
   "hash": "e134e05457d34029b6460cd73bbf1ed73f339b5b6d98c95be70b69eba114fe95"
  }
 },
 "nbformat": 4,
 "nbformat_minor": 5
}