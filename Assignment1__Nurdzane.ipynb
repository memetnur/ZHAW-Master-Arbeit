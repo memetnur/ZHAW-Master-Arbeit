{
  "nbformat": 4,
  "nbformat_minor": 0,
  "metadata": {
    "colab": {
      "name": "Assignment1__Nurdzane.ipynb",
      "provenance": [],
      "collapsed_sections": [],
      "include_colab_link": true
    },
    "kernelspec": {
      "name": "python3",
      "display_name": "Python 3.8.8 64-bit ('anaconda3': conda)"
    },
    "language_info": {
      "name": "python",
      "version": "3.8.8"
    },
    "interpreter": {
      "hash": "e134e05457d34029b6460cd73bbf1ed73f339b5b6d98c95be70b69eba114fe95"
    }
  },
  "cells": [
    {
      "cell_type": "markdown",
      "metadata": {
        "id": "view-in-github",
        "colab_type": "text"
      },
      "source": [
        "<a href=\"https://colab.research.google.com/github/memetnur/ZHAW-Master-Arbeit/blob/main/Assignment1__Nurdzane.ipynb\" target=\"_parent\"><img src=\"https://colab.research.google.com/assets/colab-badge.svg\" alt=\"Open In Colab\"/></a>"
      ]
    },
    {
      "cell_type": "code",
      "metadata": {
        "id": "8bFJX3RWPtAY"
      },
      "source": [
        "import pandas as pd\n",
        "import numpy as np\n",
        "\n",
        "df = pd.read_excel('Rubus_CRISPRs_sequence_analysis.xlsx', 'CRR3')"
      ],
      "execution_count": 1,
      "outputs": []
    },
    {
      "cell_type": "code",
      "metadata": {
        "id": "uljia3o_QX7_"
      },
      "source": [
        "#df.columns      "
      ],
      "execution_count": null,
      "outputs": []
    },
    {
      "cell_type": "code",
      "metadata": {
        "id": "rptQW-t0RuPY"
      },
      "source": [
        "dic = {}\n",
        "keys = list(df.columns)\n",
        "values = []\n",
        "\n",
        "for key in keys:\n",
        "    temp = []\n",
        "\n",
        "    for val in df.loc[:,key]:\n",
        "        #print(val)\n",
        "        try:\n",
        "            if val.startswith('>spacer'):\n",
        "                None\n",
        "            elif (val.startswith('A') | val.startswith('G') | val.startswith('C') | val.startswith('T')):\n",
        "                temp.append(val)\n",
        "            else:\n",
        "                None\n",
        "        except:\n",
        "            pass\n",
        "\n",
        "    #print(temp)\n",
        "    values.append(temp)\n",
        "    #for item in temp:\n",
        "    #    print(len(item))\n",
        "\n",
        "\n",
        "    #print(df.loc[:,key])\n",
        "for key in keys:\n",
        "    dic[key] = values.pop(0)\n",
        "\n",
        "\n",
        "for k, v in dic.items():\n",
        "    if k.startswith('Ea1_97'):\n",
        "        dic[k].insert(1, 'None')\n",
        "        dic[k].insert(2, 'None')\n",
        "    elif k.startswith('Ea8_96'):\n",
        "        dic[k].insert(0, 'None')\n",
        "        dic[k].insert(1, 'None')"
      ],
      "execution_count": null,
      "outputs": []
    },
    {
      "cell_type": "code",
      "metadata": {
        "id": "BLlcZ_fURvEZ",
        "colab": {
          "base_uri": "https://localhost:8080/"
        },
        "outputId": "2781c35f-6127-4c81-a227-e288c5ab12c2"
      },
      "source": [
        "for d in dic.values():\n",
        "    print(len(d))\n"
      ],
      "execution_count": null,
      "outputs": [
        {
          "output_type": "stream",
          "text": [
            "6\n",
            "6\n",
            "6\n",
            "6\n",
            "6\n",
            "6\n",
            "6\n",
            "6\n",
            "6\n",
            "6\n",
            "6\n",
            "6\n",
            "6\n",
            "6\n",
            "6\n",
            "6\n"
          ],
          "name": "stdout"
        }
      ]
    },
    {
      "cell_type": "code",
      "metadata": {
        "id": "0-Zg5fLNVuti",
        "colab": {
          "base_uri": "https://localhost:8080/"
        },
        "outputId": "82197d3b-f0e7-495a-b514-3abde591b6d6"
      },
      "source": [
        "dic"
      ],
      "execution_count": null,
      "outputs": [
        {
          "output_type": "execute_result",
          "data": {
            "text/plain": [
              "{'Ea02_03_NZ_JAAEWG010000099': ['TTACGTTTGCGTTAACAGTAAGCTCTGCAAC',\n",
              "  'GGCTAAATGCCTGAATTCAACGTTCTACAAAA',\n",
              "  'GAAAATCGCACCCCACTGATTGAAGAGCAGCACACT',\n",
              "  'TAAAGAGCAATATATTCGATAGACGCTGATTTGCGT',\n",
              "  'GAAATGGCTTCAATTGCGGTCGGGTGTGATGCATCA',\n",
              "  'GAAAGCCAACGTTCACTGTCATTTAGCCACGCTTCGG'],\n",
              " 'Ea03_03_NZ_JAAEWF010000099': ['TTACGTTTGCGTTAACAGTAAGCTCTGCAAC',\n",
              "  'GGCTAAATGCCTGAATTCAACGTTCTACAAAA',\n",
              "  'ATCGCACCCCACTGATTGAAGAGCAGCACACT',\n",
              "  'GAGCAATATATTCGATAGACGCTGATTTGCGT',\n",
              "  'TGGCTTCAATTGCGGTCGGGTGTGATGCATCA',\n",
              "  'GCCAACGTTCACTGTCATTTAGCCACGCTTCGG'],\n",
              " 'Ea04_03_NZ_JAAEWE010000099': ['GAATTTACGTTTGCGTTAACAGTAAGCTCTGCAAC',\n",
              "  'GAAAGGCTAAATGCCTGAATTCAACGTTCTACAAAA',\n",
              "  'GAAAATCGCACCCCACTGATTGAAGAGCAGCACACT',\n",
              "  'TAAAGAGCAATATATTCGATAGACGCTGATTTGCGT',\n",
              "  'GAAATGGCTTCAATTGCGGTCGGGTGTGATGCATCA',\n",
              "  'GAAAGCCAACGTTCACTGTCATTTAGCCACGCTTCGG'],\n",
              " 'Ea1_95_NZ_JAAEVV010000099': ['CCAGAGGACAACTTTCCGCCTTTTCTCTGCGT',\n",
              "  'AGGTGGCGGAATACGGCAACGAGTGGATAACT',\n",
              "  'CGGATCACCTCTTCGCCCAGCCAGCTGTTCAG',\n",
              "  'GAGCAATATATTCGATAGACGCTGATTTGCGT ',\n",
              "  'TGGCTTCAATTGCGGTCGGGTGTGATGCATCA',\n",
              "  'GCCAACGTTCACTGTCATTTAGCCACGCTTCGG'],\n",
              " 'Ea1_97_NZ_JAAEVU010000099': ['TTACGTTTGCGTTAACAGTAAGCTCTGCAAC',\n",
              "  'None',\n",
              "  'None',\n",
              "  'GAGCAATATATTCGATAGACGCTGATTTGCGT',\n",
              "  'TGGCTTCAATTGCGGTCGGGTGTGATGCATCA',\n",
              "  'GCCAACGTTCACTGTCATTTAGCCACGCTTCGG'],\n",
              " 'Ea1_98_NZ_JAAEVT010000099': ['TTACGTTTGCGTTAACAGTAAGCTCTGCAAC',\n",
              "  'GGCTAAATGCCTGAATTCAACGTTCTACAAAA',\n",
              "  'ATCGCACCCCACTGATTGAAGAGCAGCACACT',\n",
              "  'GAGCAATATATTCGATAGACGCTGATTTGCGT',\n",
              "  'TGGCTTCAATTGCGGTCGGGTGTGATGCATCA',\n",
              "  'GCCAACGTTCACTGTCATTTAGCCACGCTTCGG'],\n",
              " 'Ea2_95_NZ_JAAEVS010000009': ['GAATTTACGTTTGCGTTAACAGTAAGCTCTGCAAC',\n",
              "  'GAAAGGCTAAATGCCTGAATTCAACGTTCTACAAAA',\n",
              "  'GAAAATCGCACCCCACTGATTGAAGAGCAGCACACT',\n",
              "  'TAAAGAGCAATATATTCGATAGACGCTGATTTGCGT',\n",
              "  'GAAATGGCTTCAATTGCGGTCGGGTGTGATGCATCA',\n",
              "  'GAAAGCCAACGTTCACTGTCATTTAGCCACGCTTCGG'],\n",
              " 'Ea2_97_NZ_JAAEVQ010000099': ['GAATTTACGTTTGCGTTAACAGTAAGCTCTGCAAC',\n",
              "  'GAAAGGCTAAATGCCTGAATTCAACGTTCTACAAAA',\n",
              "  'GAAAATCGCACCCCACTGATTGAAGAGCAGCACACT',\n",
              "  'TAAAGAGCAATATATTCGATAGACGCTGATTTGCGT',\n",
              "  'GAAATGGCTTCAATTGCGGTCGGGTGTGATGCATCA',\n",
              "  'GAAAGCCAACGTTCACTGTCATTTAGCCACGCTTCGG'],\n",
              " 'Ea3_97_NZ_JAAEVM010000099': ['TTACGTTTGCGTTAACAGTAAGCTCTGCAAC',\n",
              "  'GGCTAAATGCCTGAATTCAACGTTCTACAAAA',\n",
              "  'ATCGCACCCCACTGATTGAAGAGCAGCACACT',\n",
              "  'GAGCAATATATTCGATAGACGCTGATTTGCGT',\n",
              "  'TGGCTTCAATTGCGGTCGGGTGTGATGCATCA',\n",
              "  'GCCAACGTTCACTGTCATTTAGCCACGCTTCGG'],\n",
              " 'Ea4_96_NZ_JAAEVG010000099_reverse_complement': ['TTACGTTTGCGTTAACAGTAAGCTCTGCAAC ',\n",
              "  'GGCTAAATGCCTGAATTCAACGTTCTACAAAA',\n",
              "  'ATCGCACCCCACTGATTGAAGAGCAGCACACT',\n",
              "  'GAGCAATATATTCGATAGACGCTGATTTGCGT',\n",
              "  'TGGCTTCAATTGCGGTCGGGTGTGATGCATCA',\n",
              "  'GCCAACGTTCACTGTCATTTAGCCACGCTTCGG'],\n",
              " 'Ea644_NZ_CAPD00000000.1': ['TTACGTTTGCGTTAACAGTAAGCTCTGCAAC',\n",
              "  'GGCTAAATGCCTGAATTCAACGTTCTACAAAA',\n",
              "  'ATCGCACCCCACTGATTGAAGAGCAGCACACT',\n",
              "  'GAGCAATATATTCGATAGACGCTGATTTGCGT',\n",
              "  'TGGCTTCAATTGCGGTCGGGTGTGATGCATCA',\n",
              "  'GCCAACGTTCACTGTCATTTAGCCACGCTTCGG'],\n",
              " 'Ea6_96_NZ_JAAEVB010000099': ['GAATTTACGTTTGCGTTAACAGTAAGCTCTGCAAC',\n",
              "  'GAAAGGCTAAATGCCTGAATTCAACGTTCTACAAAA',\n",
              "  'GAAAATCGCACCCCACTGATTGAAGAGCAGCACACT',\n",
              "  'TAAAGAGCAATATATTCGATAGACGCTGATTTGCGT',\n",
              "  'GAAATGGCTTCAATTGCGGTCGGGTGTGATGCATCA',\n",
              "  'GAAAGCCAACGTTCACTGTCATTTAGCCACGCTTCGG'],\n",
              " 'Ea7_96_NZ_JAAEUZ010000099_4bases deleted': ['TTACGTTTGCGTTAACAGTAAGCTCTGCAAC',\n",
              "  'GGCTAAATGCCTGAATTCAACGTTCTACAAAA',\n",
              "  'ATCGCACCCCACTGATTGAAGAGCAGCACACT',\n",
              "  'GAGCAATATATTCGATAGACGCTGATTTGCGT',\n",
              "  'TGGCTTCAATTGCGGTCGGGTGTGATGCATCA',\n",
              "  'GCCAACGTTCACTGTCATTTAGCCACGCTTCGG'],\n",
              " 'Ea8_96_NZ_JAAEUY010000099_reversed': ['None',\n",
              "  'None',\n",
              "  'ATCGCACCCCACTGATTGAAGAGCAGCACACT',\n",
              "  'GAGCAATATATTCGATAGACGCTGATTTGCGT',\n",
              "  'TGGCTTCAATTGCGGTCGGGTGTGATGCATCA',\n",
              "  'GCCAACGTTCACTGTCATTTAGCCACGCTTCGG'],\n",
              " 'EaLevo2_NZ_JAAEUQ010000009': ['TTACGTTTGCGTTAACAGTAAGCTCTGCAAC',\n",
              "  'GGCTAAATGCCTGAATTCAACGTTCTACAAAA',\n",
              "  'ATCGCACCCCACTGATTGAAGAGCAGCACACT',\n",
              "  'GAGCAATATATTCGATAGACGCTGATTTGCGT',\n",
              "  'TGGCTTCAATTGCGGTCGGGTGTGATGCATCA',\n",
              "  'GCCAACGTTCACTGTCATTTAGCCACGCTTCGG'],\n",
              " 'MR1_NZ_CAPE00000000': ['TTACGTTTGCGTTAACAGTAAGCTCTGCAAC',\n",
              "  'GGCTAAATGCCTGAATTCAACGTTCTACAAAA',\n",
              "  'ATCGCACCCCACTGATTGAAGAGCAGCACACT',\n",
              "  'GAGCAATATATTCGATAGACGCTGATTTGCGT',\n",
              "  'TGGCTTCAATTGCGGTCGGGTGTGATGCATCA',\n",
              "  'GCCAACGTTCACTGTCATTTAGCCACGCTTCGG']}"
            ]
          },
          "metadata": {
            "tags": []
          },
          "execution_count": 9
        }
      ]
    },
    {
      "cell_type": "code",
      "metadata": {
        "id": "cLoVdFqpcy4B"
      },
      "source": [],
      "execution_count": null,
      "outputs": []
    }
  ]
}