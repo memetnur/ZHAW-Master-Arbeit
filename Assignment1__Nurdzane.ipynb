{
  "nbformat": 4,
  "nbformat_minor": 0,
  "metadata": {
    "colab": {
      "name": "Assignment1__Nurdzane.ipynb",
      "provenance": [],
      "collapsed_sections": [],
      "include_colab_link": true
    },
    "kernelspec": {
      "name": "python3",
      "display_name": "Python 3.8.8 64-bit ('anaconda3': conda)"
    },
    "language_info": {
      "name": "python",
      "version": "3.8.8"
    },
    "interpreter": {
      "hash": "e134e05457d34029b6460cd73bbf1ed73f339b5b6d98c95be70b69eba114fe95"
    }
  },
  "cells": [
    {
      "cell_type": "code",
      "metadata": {
        "id": "8bFJX3RWPtAY"
      },
      "source": [
        "\"\"\"\n",
        "title: CRISPR Analysis Program of E. amylovora \n",
        "author: Memeti Nurdzane\n",
        "date: June 2021\n",
        "mail: memetnur@students.zhaw.ch\n",
        "\n",
        "\"\"\"\n",
        "#Import packages and data\n",
        "import pandas as pd\n",
        "import numpy as np\n",
        "\n",
        "!pip install biopython\n",
        "\n",
        "df = pd.read_excel('Rubus_CRISPRs_sequence_analysis.xlsx', 'CRR3')"
      ],
      "execution_count": 20,
      "outputs": [
        {
          "output_type": "stream",
          "name": "stdout",
          "text": [
            "Requirement already satisfied: biopython in /usr/local/anaconda3/lib/python3.8/site-packages (1.79)\nRequirement already satisfied: numpy in /usr/local/anaconda3/lib/python3.8/site-packages (from biopython) (1.20.1)\n"
          ]
        }
      ]
    },
    {
      "cell_type": "code",
      "execution_count": 45,
      "metadata": {},
      "outputs": [
        {
          "output_type": "stream",
          "name": "stdout",
          "text": [
            "<class 'list'>\n"
          ]
        }
      ],
      "source": [
        "#change column names to \"Stammname_Nummer\"\n",
        "df.columns #type is pandas.core.indexes.base.Index\n",
        "keys = list(df.columns)\n",
        "print(type(keys))"
      ]
    },
    {
      "cell_type": "code",
      "metadata": {
        "id": "rptQW-t0RuPY"
      },
      "source": [
        "\n",
        "#change column names to \"Stammname_Nummer\"\n",
        "df.columns #type is pandas.core.indexes.base.Index\n",
        "keys = list(df.columns)\n",
        "print(keys)\n",
        "\n",
        "\n",
        "dic = {}\n",
        "values = []\n",
        "\n",
        "def check_begin(x):\n",
        "    # check the len of split [0] \n",
        "    # for the bases AAA with 4 Nucleo acid\n",
        "    if len(x[0:4].split('AAA')[0]) == 1:\n",
        "        # strip() removes white spaces in begining and end\n",
        "        return x[4:].strip()\n",
        "   \n",
        "    return x.strip()\n",
        "\n",
        "for key in keys:\n",
        "    temp = []\n",
        "\n",
        "    for val in df.loc[:,key]:\n",
        "        #print(val)\n",
        "        try:\n",
        "            if val.startswith('>spacer'):\n",
        "                None\n",
        "            elif (val.startswith('A') | val.startswith('G') | val.startswith('C') | val.startswith('T')):\n",
        "                temp.append(val)\n",
        "            else:\n",
        "                None\n",
        "        except:\n",
        "            pass\n",
        "\n",
        "    #print(temp)\n",
        "    values.append(temp)\n",
        "    #for item in temp:\n",
        "    #    print(len(item))\n",
        "\n",
        "\n",
        "    #print(df.loc[:,key])\n",
        "for key in keys:\n",
        "    dic[key] = values.pop(0)\n",
        "\n",
        "\n",
        "for k, v in dic.items():\n",
        "    if k.startswith('Ea1_97'):\n",
        "        dic[k].insert(1, 'None')\n",
        "        dic[k].insert(2, 'None')\n",
        "    elif k.startswith('Ea8_96'):\n",
        "        dic[k].insert(0, 'None')\n",
        "        dic[k].insert(1, 'None')"
      ],
      "execution_count": 46,
      "outputs": [
        {
          "output_type": "stream",
          "name": "stdout",
          "text": [
            "['Ea02_03_NZ_JAAEWG010000099', 'Ea03_03_NZ_JAAEWF010000099', 'Ea1_95_NZ_JAAEVV010000099', 'Ea6_96_NZ_JAAEVB010000099', 'Ea8_96_NZ_JAAEUY010000099_reversed', 'Ea04_03_NZ_JAAEWE010000099', 'Ea1_98_NZ_JAAEVT010000099', 'Ea7_96_NZ_JAAEUZ010000099_4bases deleted', 'Ea2_95_NZ_JAAEVS010000009', 'EaLevo2_NZ_JAAEUQ010000009', 'Ea1_97_NZ_JAAEVU010000099', 'Ea2_97_NZ_JAAEVQ010000099', 'Ea3_97_NZ_JAAEVM010000099', 'Ea4_96_NZ_JAAEVG010000099_reverse_complement', 'Ea644_NZ_CAPD00000000.1', 'MR1_NZ_CAPE00000000']\n"
          ]
        }
      ]
    },
    {
      "cell_type": "code",
      "metadata": {
        "id": "BLlcZ_fURvEZ",
        "colab": {
          "base_uri": "https://localhost:8080/"
        },
        "outputId": "2781c35f-6127-4c81-a227-e288c5ab12c2"
      },
      "source": [
        "for d in dic.values():\n",
        "    print(len(d))\n"
      ],
      "execution_count": 48,
      "outputs": [
        {
          "output_type": "stream",
          "name": "stdout",
          "text": [
            "6\n6\n6\n6\n6\n6\n6\n6\n6\n6\n6\n6\n6\n6\n6\n6\n"
          ]
        }
      ]
    },
    {
      "cell_type": "code",
      "metadata": {
        "id": "0-Zg5fLNVuti",
        "colab": {
          "base_uri": "https://localhost:8080/"
        },
        "outputId": "82197d3b-f0e7-495a-b514-3abde591b6d6"
      },
      "source": [
        "dic"
      ],
      "execution_count": 49,
      "outputs": [
        {
          "output_type": "execute_result",
          "data": {
            "text/plain": [
              "{'Ea02_03_NZ_JAAEWG010000099': ['TTACGTTTGCGTTAACAGTAAGCTCTGCAAC',\n",
              "  'GGCTAAATGCCTGAATTCAACGTTCTACAAAA',\n",
              "  'GAAAATCGCACCCCACTGATTGAAGAGCAGCACACT',\n",
              "  'TAAAGAGCAATATATTCGATAGACGCTGATTTGCGT',\n",
              "  'GAAATGGCTTCAATTGCGGTCGGGTGTGATGCATCA',\n",
              "  'GAAAGCCAACGTTCACTGTCATTTAGCCACGCTTCGG'],\n",
              " 'Ea03_03_NZ_JAAEWF010000099': ['TTACGTTTGCGTTAACAGTAAGCTCTGCAAC',\n",
              "  'GGCTAAATGCCTGAATTCAACGTTCTACAAAA',\n",
              "  'ATCGCACCCCACTGATTGAAGAGCAGCACACT',\n",
              "  'GAGCAATATATTCGATAGACGCTGATTTGCGT',\n",
              "  'TGGCTTCAATTGCGGTCGGGTGTGATGCATCA',\n",
              "  'GCCAACGTTCACTGTCATTTAGCCACGCTTCGG'],\n",
              " 'Ea1_95_NZ_JAAEVV010000099': ['CCAGAGGACAACTTTCCGCCTTTTCTCTGCGT',\n",
              "  'AGGTGGCGGAATACGGCAACGAGTGGATAACT',\n",
              "  'CGGATCACCTCTTCGCCCAGCCAGCTGTTCAG',\n",
              "  'GAGCAATATATTCGATAGACGCTGATTTGCGT ',\n",
              "  'TGGCTTCAATTGCGGTCGGGTGTGATGCATCA',\n",
              "  'GCCAACGTTCACTGTCATTTAGCCACGCTTCGG'],\n",
              " 'Ea6_96_NZ_JAAEVB010000099': ['GAATTTACGTTTGCGTTAACAGTAAGCTCTGCAAC',\n",
              "  'GAAAGGCTAAATGCCTGAATTCAACGTTCTACAAAA',\n",
              "  'GAAAATCGCACCCCACTGATTGAAGAGCAGCACACT',\n",
              "  'TAAAGAGCAATATATTCGATAGACGCTGATTTGCGT',\n",
              "  'GAAATGGCTTCAATTGCGGTCGGGTGTGATGCATCA',\n",
              "  'GAAAGCCAACGTTCACTGTCATTTAGCCACGCTTCGG'],\n",
              " 'Ea8_96_NZ_JAAEUY010000099_reversed': ['None',\n",
              "  'None',\n",
              "  'ATCGCACCCCACTGATTGAAGAGCAGCACACT',\n",
              "  'GAGCAATATATTCGATAGACGCTGATTTGCGT',\n",
              "  'TGGCTTCAATTGCGGTCGGGTGTGATGCATCA',\n",
              "  'GCCAACGTTCACTGTCATTTAGCCACGCTTCGG'],\n",
              " 'Ea04_03_NZ_JAAEWE010000099': ['GAATTTACGTTTGCGTTAACAGTAAGCTCTGCAAC',\n",
              "  'GAAAGGCTAAATGCCTGAATTCAACGTTCTACAAAA',\n",
              "  'GAAAATCGCACCCCACTGATTGAAGAGCAGCACACT',\n",
              "  'TAAAGAGCAATATATTCGATAGACGCTGATTTGCGT',\n",
              "  'GAAATGGCTTCAATTGCGGTCGGGTGTGATGCATCA',\n",
              "  'GAAAGCCAACGTTCACTGTCATTTAGCCACGCTTCGG'],\n",
              " 'Ea1_98_NZ_JAAEVT010000099': ['TTACGTTTGCGTTAACAGTAAGCTCTGCAAC',\n",
              "  'GGCTAAATGCCTGAATTCAACGTTCTACAAAA',\n",
              "  'ATCGCACCCCACTGATTGAAGAGCAGCACACT',\n",
              "  'GAGCAATATATTCGATAGACGCTGATTTGCGT',\n",
              "  'TGGCTTCAATTGCGGTCGGGTGTGATGCATCA',\n",
              "  'GCCAACGTTCACTGTCATTTAGCCACGCTTCGG'],\n",
              " 'Ea7_96_NZ_JAAEUZ010000099_4bases deleted': ['TTACGTTTGCGTTAACAGTAAGCTCTGCAAC',\n",
              "  'GGCTAAATGCCTGAATTCAACGTTCTACAAAA',\n",
              "  'ATCGCACCCCACTGATTGAAGAGCAGCACACT',\n",
              "  'GAGCAATATATTCGATAGACGCTGATTTGCGT',\n",
              "  'TGGCTTCAATTGCGGTCGGGTGTGATGCATCA',\n",
              "  'GCCAACGTTCACTGTCATTTAGCCACGCTTCGG'],\n",
              " 'Ea2_95_NZ_JAAEVS010000009': ['GAATTTACGTTTGCGTTAACAGTAAGCTCTGCAAC',\n",
              "  'GAAAGGCTAAATGCCTGAATTCAACGTTCTACAAAA',\n",
              "  'GAAAATCGCACCCCACTGATTGAAGAGCAGCACACT',\n",
              "  'TAAAGAGCAATATATTCGATAGACGCTGATTTGCGT',\n",
              "  'GAAATGGCTTCAATTGCGGTCGGGTGTGATGCATCA',\n",
              "  'GAAAGCCAACGTTCACTGTCATTTAGCCACGCTTCGG'],\n",
              " 'EaLevo2_NZ_JAAEUQ010000009': ['TTACGTTTGCGTTAACAGTAAGCTCTGCAAC',\n",
              "  'GGCTAAATGCCTGAATTCAACGTTCTACAAAA',\n",
              "  'ATCGCACCCCACTGATTGAAGAGCAGCACACT',\n",
              "  'GAGCAATATATTCGATAGACGCTGATTTGCGT',\n",
              "  'TGGCTTCAATTGCGGTCGGGTGTGATGCATCA',\n",
              "  'GCCAACGTTCACTGTCATTTAGCCACGCTTCGG'],\n",
              " 'Ea1_97_NZ_JAAEVU010000099': ['TTACGTTTGCGTTAACAGTAAGCTCTGCAAC',\n",
              "  'None',\n",
              "  'None',\n",
              "  'GAGCAATATATTCGATAGACGCTGATTTGCGT',\n",
              "  'TGGCTTCAATTGCGGTCGGGTGTGATGCATCA',\n",
              "  'GCCAACGTTCACTGTCATTTAGCCACGCTTCGG'],\n",
              " 'Ea2_97_NZ_JAAEVQ010000099': ['GAATTTACGTTTGCGTTAACAGTAAGCTCTGCAAC',\n",
              "  'GAAAGGCTAAATGCCTGAATTCAACGTTCTACAAAA',\n",
              "  'GAAAATCGCACCCCACTGATTGAAGAGCAGCACACT',\n",
              "  'TAAAGAGCAATATATTCGATAGACGCTGATTTGCGT',\n",
              "  'GAAATGGCTTCAATTGCGGTCGGGTGTGATGCATCA',\n",
              "  'GAAAGCCAACGTTCACTGTCATTTAGCCACGCTTCGG'],\n",
              " 'Ea3_97_NZ_JAAEVM010000099': ['TTACGTTTGCGTTAACAGTAAGCTCTGCAAC',\n",
              "  'GGCTAAATGCCTGAATTCAACGTTCTACAAAA',\n",
              "  'ATCGCACCCCACTGATTGAAGAGCAGCACACT',\n",
              "  'GAGCAATATATTCGATAGACGCTGATTTGCGT',\n",
              "  'TGGCTTCAATTGCGGTCGGGTGTGATGCATCA',\n",
              "  'GCCAACGTTCACTGTCATTTAGCCACGCTTCGG'],\n",
              " 'Ea4_96_NZ_JAAEVG010000099_reverse_complement': ['TTACGTTTGCGTTAACAGTAAGCTCTGCAAC ',\n",
              "  'GGCTAAATGCCTGAATTCAACGTTCTACAAAA',\n",
              "  'ATCGCACCCCACTGATTGAAGAGCAGCACACT',\n",
              "  'GAGCAATATATTCGATAGACGCTGATTTGCGT',\n",
              "  'TGGCTTCAATTGCGGTCGGGTGTGATGCATCA',\n",
              "  'GCCAACGTTCACTGTCATTTAGCCACGCTTCGG'],\n",
              " 'Ea644_NZ_CAPD00000000.1': ['TTACGTTTGCGTTAACAGTAAGCTCTGCAAC',\n",
              "  'GGCTAAATGCCTGAATTCAACGTTCTACAAAA',\n",
              "  'ATCGCACCCCACTGATTGAAGAGCAGCACACT',\n",
              "  'GAGCAATATATTCGATAGACGCTGATTTGCGT',\n",
              "  'TGGCTTCAATTGCGGTCGGGTGTGATGCATCA',\n",
              "  'GCCAACGTTCACTGTCATTTAGCCACGCTTCGG'],\n",
              " 'MR1_NZ_CAPE00000000': ['TTACGTTTGCGTTAACAGTAAGCTCTGCAAC',\n",
              "  'GGCTAAATGCCTGAATTCAACGTTCTACAAAA',\n",
              "  'ATCGCACCCCACTGATTGAAGAGCAGCACACT',\n",
              "  'GAGCAATATATTCGATAGACGCTGATTTGCGT',\n",
              "  'TGGCTTCAATTGCGGTCGGGTGTGATGCATCA',\n",
              "  'GCCAACGTTCACTGTCATTTAGCCACGCTTCGG']}"
            ]
          },
          "metadata": {},
          "execution_count": 49
        }
      ]
    },
    {
      "cell_type": "code",
      "metadata": {
        "id": "cLoVdFqpcy4B"
      },
      "source": [],
      "execution_count": null,
      "outputs": []
    }
  ]
}