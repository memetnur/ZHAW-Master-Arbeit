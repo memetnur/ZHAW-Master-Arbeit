{
  "nbformat": 4,
  "nbformat_minor": 0,
  "metadata": {
    "colab": {
      "name": "Assignment1_ Nurdzane.ipynb",
      "provenance": [],
      "collapsed_sections": [],
      "include_colab_link": true
    },
    "kernelspec": {
      "name": "python3",
      "display_name": "Python 3"
    },
    "language_info": {
      "name": "python"
    }
  },
  "cells": [
    {
      "cell_type": "markdown",
      "metadata": {
        "id": "view-in-github",
        "colab_type": "text"
      },
      "source": [
        "<a href=\"https://colab.research.google.com/github/memetnur/ZHAW-Master-Arbeit/blob/main/Assignment2__Nurdzane.ipynb\" target=\"_parent\"><img src=\"https://colab.research.google.com/assets/colab-badge.svg\" alt=\"Open In Colab\"/></a>"
      ]
    },
    {
      "cell_type": "markdown",
      "metadata": {
        "id": "KlWbU6nkQLmi"
      },
      "source": [
        "# Neuer Abschnitt"
      ]
    },
    {
      "cell_type": "code",
      "metadata": {
        "id": "8bFJX3RWPtAY"
      },
      "source": [
        "import pandas as pd\n",
        "import numpy as np\n",
        "\n",
        "df = pd.read_excel('/content/Rubus_CRISPRs_sequence_analysis.xlsx', 'CRR3')"
      ],
      "execution_count": null,
      "outputs": []
    },
    {
      "cell_type": "code",
      "metadata": {
        "colab": {
          "base_uri": "https://localhost:8080/"
        },
        "id": "wuLiNtm6DW6e",
        "outputId": "4ed21544-6f7d-4e8d-b315-7f9aa1450ba0"
      },
      "source": [
        "!pip install biopython"
      ],
      "execution_count": null,
      "outputs": [
        {
          "output_type": "stream",
          "text": [
            "Collecting biopython\n",
            "\u001b[?25l  Downloading https://files.pythonhosted.org/packages/5a/42/de1ed545df624180b84c613e5e4de4848f72989ce5846a74af6baa0737b9/biopython-1.79-cp37-cp37m-manylinux_2_5_x86_64.manylinux1_x86_64.whl (2.3MB)\n",
            "\u001b[K     |████████████████████████████████| 2.3MB 7.6MB/s \n",
            "\u001b[?25hRequirement already satisfied: numpy in /usr/local/lib/python3.7/dist-packages (from biopython) (1.19.5)\n",
            "Installing collected packages: biopython\n",
            "Successfully installed biopython-1.79\n"
          ],
          "name": "stdout"
        }
      ]
    },
    {
      "cell_type": "code",
      "metadata": {
        "id": "uljia3o_QX7_"
      },
      "source": [
        "#df.columns"
      ],
      "execution_count": null,
      "outputs": []
    },
    {
      "cell_type": "code",
      "metadata": {
        "id": "rptQW-t0RuPY"
      },
      "source": [
        "dic = {}\n",
        "keys = list(df.columns)\n",
        "values = []\n",
        "\n",
        "def check_begin(x):\n",
        "    # check the len of split [0] \n",
        "    # for the bases AAA with 4 Nucleo acid\n",
        "    if len(x[0:4].split('AAA')[0]) == 1:\n",
        "        # strip() removes white spaces in begining and end\n",
        "        return x[4:].strip()\n",
        "   \n",
        "    return x.strip()\n",
        "\n",
        "\n",
        "for key in keys:\n",
        "    temp = []\n",
        "\n",
        "    for val in df.loc[:,key]:\n",
        "        #print(val)\n",
        "        try:\n",
        "            if val.startswith('>spacer'):\n",
        "                None\n",
        "            elif (val.startswith('A') | val.startswith('G') | val.startswith('C') | val.startswith('T')):\n",
        "                temp.append(check_begin(val))\n",
        "            else:\n",
        "                None\n",
        "        except:\n",
        "            pass\n",
        "\n",
        "    #print(temp)\n",
        "    values.append(temp)\n",
        "    #for item in temp:\n",
        "    #    print(len(item))\n",
        "\n",
        "\n",
        "    #print(df.loc[:,key])\n",
        "for key in keys:\n",
        "    dic[key] = values.pop(0)\n",
        "\n",
        "\n",
        "for k, v in dic.items():\n",
        "    if k.startswith('Ea1_97'):\n",
        "        dic[k].insert(1, 'None')\n",
        "        dic[k].insert(2, 'None')\n",
        "    elif k.startswith('Ea8_96'):\n",
        "        dic[k].insert(0, 'None')\n",
        "        dic[k].insert(1, 'None')"
      ],
      "execution_count": null,
      "outputs": []
    },
    {
      "cell_type": "code",
      "metadata": {
        "id": "BLlcZ_fURvEZ"
      },
      "source": [
        "#for d in dic.values():\n",
        "#    print(len(d))\n"
      ],
      "execution_count": null,
      "outputs": []
    },
    {
      "cell_type": "code",
      "metadata": {
        "colab": {
          "base_uri": "https://localhost:8080/",
          "height": 35
        },
        "id": "WAC9qKKl-yt6",
        "outputId": "df7928fd-a348-41a2-8fee-f38712511723"
      },
      "source": [
        "# split logic\n",
        "x = 'GAAAATCGCACCCCACTGATTGAAGAGCAGCACACT'\n",
        "#x.split('AAA')[1]\n",
        "#x[0:4].split('AAA')[1] == ''\n",
        "#x[4:]\n",
        "x[0:4].split('AAA')[0]"
      ],
      "execution_count": null,
      "outputs": [
        {
          "output_type": "execute_result",
          "data": {
            "application/vnd.google.colaboratory.intrinsic+json": {
              "type": "string"
            },
            "text/plain": [
              "'G'"
            ]
          },
          "metadata": {
            "tags": []
          },
          "execution_count": 40
        }
      ]
    },
    {
      "cell_type": "code",
      "metadata": {
        "id": "BGJq-ZVIMUWh"
      },
      "source": [
        "dic"
      ],
      "execution_count": null,
      "outputs": []
    },
    {
      "cell_type": "code",
      "metadata": {
        "id": "Xf0SX1vVNERI"
      },
      "source": [
        ""
      ],
      "execution_count": null,
      "outputs": []
    },
    {
      "cell_type": "code",
      "metadata": {
        "id": "0-Zg5fLNVuti",
        "colab": {
          "base_uri": "https://localhost:8080/"
        },
        "outputId": "d5e1da60-4e1c-4a08-abd6-4832468735e9"
      },
      "source": [
        "def check_unique(x):\n",
        "    x = x\n",
        "    for key, val in dic.items():\n",
        "     if unique[x] in val:\n",
        "         print(unique[x])\n",
        "         print(key)\n",
        "         print(val.index(unique[x]) + 1)\n",
        "\n",
        "check_unique(1)"
      ],
      "execution_count": null,
      "outputs": [
        {
          "output_type": "stream",
          "text": [
            "CGGATCACCTCTTCGCCCAGCCAGCTGTTCAG\n",
            "Ea1_95_NZ_JAAEVV010000099\n",
            "3\n"
          ],
          "name": "stdout"
        }
      ]
    },
    {
      "cell_type": "code",
      "metadata": {
        "id": "cLoVdFqpcy4B",
        "colab": {
          "base_uri": "https://localhost:8080/"
        },
        "outputId": "64315bd0-6cc0-4f06-9de0-f28175a72db6"
      },
      "source": [
        "unique = []\n",
        "for d in dic.values():\n",
        "    unique.append(d)\n",
        "\n",
        "unique = list(set(list(np.array(unique).flatten())))\n",
        "for i in unique:\n",
        "    print(len(i))\n"
      ],
      "execution_count": null,
      "outputs": [
        {
          "output_type": "stream",
          "text": [
            "31\n",
            "32\n",
            "33\n",
            "32\n",
            "4\n",
            "32\n",
            "35\n",
            "32\n",
            "32\n",
            "32\n",
            "32\n"
          ],
          "name": "stdout"
        }
      ]
    },
    {
      "cell_type": "code",
      "metadata": {
        "colab": {
          "base_uri": "https://localhost:8080/"
        },
        "id": "FQVNScEYGN8Y",
        "outputId": "ad0e5209-35c2-478c-b803-29535a93fb63"
      },
      "source": [
        "#unique.remove('None')\n",
        "unique"
      ],
      "execution_count": null,
      "outputs": [
        {
          "output_type": "execute_result",
          "data": {
            "text/plain": [
              "['TTACGTTTGCGTTAACAGTAAGCTCTGCAAC',\n",
              " 'CGGATCACCTCTTCGCCCAGCCAGCTGTTCAG',\n",
              " 'GCCAACGTTCACTGTCATTTAGCCACGCTTCGG',\n",
              " 'CCAGAGGACAACTTTCCGCCTTTTCTCTGCGT',\n",
              " 'GGCTAAATGCCTGAATTCAACGTTCTACAAAA',\n",
              " 'GAATTTACGTTTGCGTTAACAGTAAGCTCTGCAAC',\n",
              " 'ATCGCACCCCACTGATTGAAGAGCAGCACACT',\n",
              " 'GAGCAATATATTCGATAGACGCTGATTTGCGT',\n",
              " 'TGGCTTCAATTGCGGTCGGGTGTGATGCATCA',\n",
              " 'AGGTGGCGGAATACGGCAACGAGTGGATAACT']"
            ]
          },
          "metadata": {
            "tags": []
          },
          "execution_count": 67
        }
      ]
    },
    {
      "cell_type": "code",
      "metadata": {
        "id": "lKavV_w37l0S"
      },
      "source": [
        "# np.array(unique).flatten() - convert to numpy array and flatten\n",
        "# list(np.array(unique).flatten()) - convert to list \n",
        "# set(list(np.array(unique).flatten())) - take unique\n",
        "# again convert to list\n",
        "\n",
        "\n"
      ],
      "execution_count": null,
      "outputs": []
    },
    {
      "cell_type": "code",
      "metadata": {
        "colab": {
          "base_uri": "https://localhost:8080/"
        },
        "id": "Loqjq3yi7moQ",
        "outputId": "cdf89347-8e20-42c5-dd66-9854f1df4c98"
      },
      "source": [
        "# Import libraries\n",
        "from Bio import pairwise2\n",
        "from Bio.Seq import Seq\n",
        "from Bio.pairwise2 import format_alignment\n",
        "  \n",
        "# Creating sqmple sequences\n",
        "seq2 = Seq(\"TTACGTTTGCGTTAACAGTAAGCTCTGCAAC\")\n",
        "seq1 = Seq(\"GAATTTACGTTTGCGTTAACAGTAAGCTCTGCAAC\")\n",
        "\n",
        "def cal_score(x, y):\n",
        "    seq1 = x\n",
        "    seq2 = y\n",
        "    # Finding similarities\n",
        "    alignments = pairwise2.align.globalxx(seq1, seq2)\n",
        "    scores = 0 \n",
        "    # Showing results\n",
        "    for alignment in alignments:\n",
        "    #print(type(alignment))\n",
        "    #print(alignment.score)\n",
        "    #print(format_alignment(*alignment))\n",
        "        scores = alignment.score + scores\n",
        "    #print(len(alignments))\n",
        "        print(format_alignment(*alignment))\n",
        "    print(scores/len(alignments))\n",
        "    \n",
        "\n",
        "cal_score(seq1, seq2)"
      ],
      "execution_count": null,
      "outputs": [
        {
          "output_type": "stream",
          "text": [
            "GAATTTACGTTTGCGTTAACAGTAAGCTCTGCAAC\n",
            "    |||||||||||||||||||||||||||||||\n",
            "----TTACGTTTGCGTTAACAGTAAGCTCTGCAAC\n",
            "  Score=31\n",
            "\n",
            "GAATTTACGTTTGCGTTAACAGTAAGCTCTGCAAC\n",
            "   | ||||||||||||||||||||||||||||||\n",
            "---T-TACGTTTGCGTTAACAGTAAGCTCTGCAAC\n",
            "  Score=31\n",
            "\n",
            "GAATTTACGTTTGCGTTAACAGTAAGCTCTGCAAC\n",
            "   || |||||||||||||||||||||||||||||\n",
            "---TT-ACGTTTGCGTTAACAGTAAGCTCTGCAAC\n",
            "  Score=31\n",
            "\n",
            "31.0\n"
          ],
          "name": "stdout"
        }
      ]
    },
    {
      "cell_type": "code",
      "metadata": {
        "colab": {
          "base_uri": "https://localhost:8080/",
          "height": 35
        },
        "id": "XS_cJVGQJWvd",
        "outputId": "c15162fa-5661-412e-b077-05ef96884a83"
      },
      "source": [
        "unique[0]\n",
        "unique[1]"
      ],
      "execution_count": null,
      "outputs": [
        {
          "output_type": "execute_result",
          "data": {
            "application/vnd.google.colaboratory.intrinsic+json": {
              "type": "string"
            },
            "text/plain": [
              "'CGGATCACCTCTTCGCCCAGCCAGCTGTTCAG'"
            ]
          },
          "metadata": {
            "tags": []
          },
          "execution_count": 69
        }
      ]
    },
    {
      "cell_type": "code",
      "metadata": {
        "colab": {
          "base_uri": "https://localhost:8080/"
        },
        "id": "J7b79IjCJzXC",
        "outputId": "97f19d73-aa28-421c-e63b-4f06f9a058db"
      },
      "source": [
        "range(len(unique))\n"
      ],
      "execution_count": null,
      "outputs": [
        {
          "output_type": "execute_result",
          "data": {
            "text/plain": [
              "range(0, 10)"
            ]
          },
          "metadata": {
            "tags": []
          },
          "execution_count": 72
        }
      ]
    },
    {
      "cell_type": "code",
      "metadata": {
        "colab": {
          "base_uri": "https://localhost:8080/"
        },
        "id": "G_99e4b_KCD1",
        "outputId": "7dc355fb-8252-4428-aafe-bea22ac38197"
      },
      "source": [
        "unique"
      ],
      "execution_count": null,
      "outputs": [
        {
          "output_type": "execute_result",
          "data": {
            "text/plain": [
              "['TTACGTTTGCGTTAACAGTAAGCTCTGCAAC',\n",
              " 'CGGATCACCTCTTCGCCCAGCCAGCTGTTCAG',\n",
              " 'GCCAACGTTCACTGTCATTTAGCCACGCTTCGG',\n",
              " 'CCAGAGGACAACTTTCCGCCTTTTCTCTGCGT',\n",
              " 'GGCTAAATGCCTGAATTCAACGTTCTACAAAA',\n",
              " 'GAATTTACGTTTGCGTTAACAGTAAGCTCTGCAAC',\n",
              " 'ATCGCACCCCACTGATTGAAGAGCAGCACACT',\n",
              " 'GAGCAATATATTCGATAGACGCTGATTTGCGT',\n",
              " 'TGGCTTCAATTGCGGTCGGGTGTGATGCATCA',\n",
              " 'AGGTGGCGGAATACGGCAACGAGTGGATAACT']"
            ]
          },
          "metadata": {
            "tags": []
          },
          "execution_count": 73
        }
      ]
    },
    {
      "cell_type": "code",
      "metadata": {
        "id": "RNR1V1UMDfqk"
      },
      "source": [
        "\n",
        "for i in range(len(unique)):\n",
        "    for j in unique[i + 1:]:\n",
        "        #print(i)\n",
        "        #print(j)\n",
        "        cal_score(unique[i], j)\n",
        "\n"
      ],
      "execution_count": null,
      "outputs": []
    },
    {
      "cell_type": "code",
      "metadata": {
        "id": "v5h5R_wLJkN_"
      },
      "source": [
        ""
      ],
      "execution_count": null,
      "outputs": []
    }
  ]
}