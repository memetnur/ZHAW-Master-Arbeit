{
 "cells": [
  {
   "cell_type": "code",
   "execution_count": 135,
   "id": "4474df8b",
   "metadata": {},
   "outputs": [
    {
     "output_type": "stream",
     "name": "stdout",
     "text": [
      "Requirement already satisfied: biopython in /usr/local/anaconda3/lib/python3.8/site-packages (1.79)\nRequirement already satisfied: numpy in /usr/local/anaconda3/lib/python3.8/site-packages (from biopython) (1.20.1)\n"
     ]
    }
   ],
   "source": [
    "\"\"\"\n",
    "title: CRISPR Analysis Program of E. amylovora \n",
    "author: Memeti Nurdzane\n",
    "date: June 2021\n",
    "mail: memetnur@students.zhaw.ch\n",
    "supervisor: theo smits\n",
    "\n",
    "\"\"\"\n",
    "#Import packages and data\n",
    "import pandas as pd\n",
    "import numpy as np\n",
    "from Bio import pairwise2\n",
    "from Bio.Seq import Seq\n",
    "from Bio.pairwise2 import format_alignment\n",
    "\n",
    "!pip install biopython\n",
    "\n",
    "# create a dataframe (df) where we import data from excel. note that no entry is labelled here as \"NaN\". \n",
    "df = pd.read_excel('Rubus_CRISPRs_sequence_analysis.xlsx', 'CRR')"
   ]
  },
  {
   "cell_type": "code",
   "execution_count": 136,
   "id": "8c790554",
   "metadata": {},
   "outputs": [
    {
     "output_type": "execute_result",
     "data": {
      "text/plain": [
       "               Ea02_03_NZ_JAAEWG010000099         Ea03_03_NZ_JAAEWF010000099  \\\n",
       "0                                >spacer1                           >spacer1   \n",
       "1         TTACGTTTGCGTTAACAGTAAGCTCTGCAAC    TTACGTTTGCGTTAACAGTAAGCTCTGCAAC   \n",
       "2                                >spacer2                           >spacer2   \n",
       "3        GGCTAAATGCCTGAATTCAACGTTCTACAAAA   GGCTAAATGCCTGAATTCAACGTTCTACAAAA   \n",
       "4                                >spacer3                           >spacer3   \n",
       "5    GAAAATCGCACCCCACTGATTGAAGAGCAGCACACT   ATCGCACCCCACTGATTGAAGAGCAGCACACT   \n",
       "6                                >spacer4                           >spacer4   \n",
       "7    TAAAGAGCAATATATTCGATAGACGCTGATTTGCGT   GAGCAATATATTCGATAGACGCTGATTTGCGT   \n",
       "8                                >spacer5                           >spacer5   \n",
       "9    GAAATGGCTTCAATTGCGGTCGGGTGTGATGCATCA   TGGCTTCAATTGCGGTCGGGTGTGATGCATCA   \n",
       "10                               >spacer6                           >spacer6   \n",
       "11  GAAAGCCAACGTTCACTGTCATTTAGCCACGCTTCGG  GCCAACGTTCACTGTCATTTAGCCACGCTTCGG   \n",
       "12                                    NaN                                NaN   \n",
       "\n",
       "            Ea1_95_NZ_JAAEVV010000099              Ea6_96_NZ_JAAEVB010000099  \\\n",
       "0                            >spacer1                               >spacer1   \n",
       "1    CCAGAGGACAACTTTCCGCCTTTTCTCTGCGT    GAATTTACGTTTGCGTTAACAGTAAGCTCTGCAAC   \n",
       "2                            >spacer2                               >spacer2   \n",
       "3    AGGTGGCGGAATACGGCAACGAGTGGATAACT   GAAAGGCTAAATGCCTGAATTCAACGTTCTACAAAA   \n",
       "4                            >spacer3                               >spacer3   \n",
       "5    CGGATCACCTCTTCGCCCAGCCAGCTGTTCAG   GAAAATCGCACCCCACTGATTGAAGAGCAGCACACT   \n",
       "6                            >spacer4                               >spacer4   \n",
       "7   GAGCAATATATTCGATAGACGCTGATTTGCGT    TAAAGAGCAATATATTCGATAGACGCTGATTTGCGT   \n",
       "8                            >spacer5                               >spacer5   \n",
       "9    TGGCTTCAATTGCGGTCGGGTGTGATGCATCA   GAAATGGCTTCAATTGCGGTCGGGTGTGATGCATCA   \n",
       "10                           >spacer6                               >spacer6   \n",
       "11  GCCAACGTTCACTGTCATTTAGCCACGCTTCGG  GAAAGCCAACGTTCACTGTCATTTAGCCACGCTTCGG   \n",
       "12                                NaN                                    NaN   \n",
       "\n",
       "   Ea8_96_NZ_JAAEUY010000099_reversed             Ea04_03_NZ_JAAEWE010000099  \\\n",
       "0                            >spacer1                               >spacer1   \n",
       "1    ATCGCACCCCACTGATTGAAGAGCAGCACACT    GAATTTACGTTTGCGTTAACAGTAAGCTCTGCAAC   \n",
       "2                            >spacer2                               >spacer2   \n",
       "3    GAGCAATATATTCGATAGACGCTGATTTGCGT   GAAAGGCTAAATGCCTGAATTCAACGTTCTACAAAA   \n",
       "4                            >spacer3                               >spacer3   \n",
       "5    TGGCTTCAATTGCGGTCGGGTGTGATGCATCA   GAAAATCGCACCCCACTGATTGAAGAGCAGCACACT   \n",
       "6                            >spacer4                               >spacer4   \n",
       "7   GCCAACGTTCACTGTCATTTAGCCACGCTTCGG   TAAAGAGCAATATATTCGATAGACGCTGATTTGCGT   \n",
       "8                                 NaN                               >spacer5   \n",
       "9                                 NaN   GAAATGGCTTCAATTGCGGTCGGGTGTGATGCATCA   \n",
       "10                                NaN                               >spacer6   \n",
       "11                                NaN  GAAAGCCAACGTTCACTGTCATTTAGCCACGCTTCGG   \n",
       "12                                NaN                                    NaN   \n",
       "\n",
       "            Ea1_98_NZ_JAAEVT010000099  \\\n",
       "0                            >spacer1   \n",
       "1     TTACGTTTGCGTTAACAGTAAGCTCTGCAAC   \n",
       "2                            >spacer2   \n",
       "3    GGCTAAATGCCTGAATTCAACGTTCTACAAAA   \n",
       "4                            >spacer3   \n",
       "5    ATCGCACCCCACTGATTGAAGAGCAGCACACT   \n",
       "6                            >spacer4   \n",
       "7    GAGCAATATATTCGATAGACGCTGATTTGCGT   \n",
       "8                            >spacer5   \n",
       "9    TGGCTTCAATTGCGGTCGGGTGTGATGCATCA   \n",
       "10                           >spacer6   \n",
       "11  GCCAACGTTCACTGTCATTTAGCCACGCTTCGG   \n",
       "12                                NaN   \n",
       "\n",
       "   Ea7_96_NZ_JAAEUZ010000099_4bases deleted  \\\n",
       "0                                  >spacer1   \n",
       "1           TTACGTTTGCGTTAACAGTAAGCTCTGCAAC   \n",
       "2                                  >spacer2   \n",
       "3          GGCTAAATGCCTGAATTCAACGTTCTACAAAA   \n",
       "4                                  >spacer3   \n",
       "5          ATCGCACCCCACTGATTGAAGAGCAGCACACT   \n",
       "6                                  >spacer4   \n",
       "7          GAGCAATATATTCGATAGACGCTGATTTGCGT   \n",
       "8                                  >spacer5   \n",
       "9          TGGCTTCAATTGCGGTCGGGTGTGATGCATCA   \n",
       "10                                 >spacer6   \n",
       "11        GCCAACGTTCACTGTCATTTAGCCACGCTTCGG   \n",
       "12                                      NaN   \n",
       "\n",
       "                Ea2_95_NZ_JAAEVS010000009         EaLevo2_NZ_JAAEUQ010000009  \\\n",
       "0                                >spacer1                           >spacer1   \n",
       "1     GAATTTACGTTTGCGTTAACAGTAAGCTCTGCAAC    TTACGTTTGCGTTAACAGTAAGCTCTGCAAC   \n",
       "2                                >spacer2                           >spacer2   \n",
       "3    GAAAGGCTAAATGCCTGAATTCAACGTTCTACAAAA   GGCTAAATGCCTGAATTCAACGTTCTACAAAA   \n",
       "4                                >spacer3                           >spacer3   \n",
       "5    GAAAATCGCACCCCACTGATTGAAGAGCAGCACACT   ATCGCACCCCACTGATTGAAGAGCAGCACACT   \n",
       "6                                >spacer4                           >spacer4   \n",
       "7    TAAAGAGCAATATATTCGATAGACGCTGATTTGCGT   GAGCAATATATTCGATAGACGCTGATTTGCGT   \n",
       "8                                >spacer5                           >spacer5   \n",
       "9    GAAATGGCTTCAATTGCGGTCGGGTGTGATGCATCA   TGGCTTCAATTGCGGTCGGGTGTGATGCATCA   \n",
       "10                               >spacer6                           >spacer6   \n",
       "11  GAAAGCCAACGTTCACTGTCATTTAGCCACGCTTCGG  GCCAACGTTCACTGTCATTTAGCCACGCTTCGG   \n",
       "12                                    NaN                                NaN   \n",
       "\n",
       "            Ea1_97_NZ_JAAEVU010000099              Ea2_97_NZ_JAAEVQ010000099  \\\n",
       "0                            >spacer1                               >spacer1   \n",
       "1     TTACGTTTGCGTTAACAGTAAGCTCTGCAAC    GAATTTACGTTTGCGTTAACAGTAAGCTCTGCAAC   \n",
       "2                            >spacer2                               >spacer2   \n",
       "3    GAGCAATATATTCGATAGACGCTGATTTGCGT   GAAAGGCTAAATGCCTGAATTCAACGTTCTACAAAA   \n",
       "4                            >spacer3                               >spacer3   \n",
       "5    TGGCTTCAATTGCGGTCGGGTGTGATGCATCA   GAAAATCGCACCCCACTGATTGAAGAGCAGCACACT   \n",
       "6                            >spacer4                               >spacer4   \n",
       "7   GCCAACGTTCACTGTCATTTAGCCACGCTTCGG   TAAAGAGCAATATATTCGATAGACGCTGATTTGCGT   \n",
       "8                                 NaN                               >spacer5   \n",
       "9                                 NaN   GAAATGGCTTCAATTGCGGTCGGGTGTGATGCATCA   \n",
       "10                                NaN                               >spacer6   \n",
       "11                                NaN  GAAAGCCAACGTTCACTGTCATTTAGCCACGCTTCGG   \n",
       "12                                NaN                    vier basen am afang   \n",
       "\n",
       "            Ea3_97_NZ_JAAEVM010000099  \\\n",
       "0                            >spacer1   \n",
       "1     TTACGTTTGCGTTAACAGTAAGCTCTGCAAC   \n",
       "2                            >spacer2   \n",
       "3    GGCTAAATGCCTGAATTCAACGTTCTACAAAA   \n",
       "4                            >spacer3   \n",
       "5    ATCGCACCCCACTGATTGAAGAGCAGCACACT   \n",
       "6                            >spacer4   \n",
       "7    GAGCAATATATTCGATAGACGCTGATTTGCGT   \n",
       "8                            >spacer5   \n",
       "9    TGGCTTCAATTGCGGTCGGGTGTGATGCATCA   \n",
       "10                           >spacer6   \n",
       "11  GCCAACGTTCACTGTCATTTAGCCACGCTTCGG   \n",
       "12                                NaN   \n",
       "\n",
       "   Ea4_96_NZ_JAAEVG010000099_reverse_complement  \\\n",
       "0                                      >spacer1   \n",
       "1              TTACGTTTGCGTTAACAGTAAGCTCTGCAAC    \n",
       "2                                      >spacer2   \n",
       "3              GGCTAAATGCCTGAATTCAACGTTCTACAAAA   \n",
       "4                                      >spacer3   \n",
       "5              ATCGCACCCCACTGATTGAAGAGCAGCACACT   \n",
       "6                                      >spacer4   \n",
       "7              GAGCAATATATTCGATAGACGCTGATTTGCGT   \n",
       "8                                      >spacer5   \n",
       "9              TGGCTTCAATTGCGGTCGGGTGTGATGCATCA   \n",
       "10                                     >spacer6   \n",
       "11            GCCAACGTTCACTGTCATTTAGCCACGCTTCGG   \n",
       "12                                          NaN   \n",
       "\n",
       "              Ea644_NZ_CAPD00000000.1                MR1_NZ_CAPE00000000  \n",
       "0                            >spacer1                           >spacer1  \n",
       "1     TTACGTTTGCGTTAACAGTAAGCTCTGCAAC    TTACGTTTGCGTTAACAGTAAGCTCTGCAAC  \n",
       "2                            >spacer2                           >spacer2  \n",
       "3    GGCTAAATGCCTGAATTCAACGTTCTACAAAA   GGCTAAATGCCTGAATTCAACGTTCTACAAAA  \n",
       "4                            >spacer3                           >spacer3  \n",
       "5    ATCGCACCCCACTGATTGAAGAGCAGCACACT   ATCGCACCCCACTGATTGAAGAGCAGCACACT  \n",
       "6                            >spacer4                           >spacer4  \n",
       "7    GAGCAATATATTCGATAGACGCTGATTTGCGT   GAGCAATATATTCGATAGACGCTGATTTGCGT  \n",
       "8                            >spacer5                           >spacer5  \n",
       "9    TGGCTTCAATTGCGGTCGGGTGTGATGCATCA   TGGCTTCAATTGCGGTCGGGTGTGATGCATCA  \n",
       "10                           >spacer6                           >spacer6  \n",
       "11  GCCAACGTTCACTGTCATTTAGCCACGCTTCGG  GCCAACGTTCACTGTCATTTAGCCACGCTTCGG  \n",
       "12                                NaN                                NaN  "
      ],
      "text/html": "<div>\n<style scoped>\n    .dataframe tbody tr th:only-of-type {\n        vertical-align: middle;\n    }\n\n    .dataframe tbody tr th {\n        vertical-align: top;\n    }\n\n    .dataframe thead th {\n        text-align: right;\n    }\n</style>\n<table border=\"1\" class=\"dataframe\">\n  <thead>\n    <tr style=\"text-align: right;\">\n      <th></th>\n      <th>Ea02_03_NZ_JAAEWG010000099</th>\n      <th>Ea03_03_NZ_JAAEWF010000099</th>\n      <th>Ea1_95_NZ_JAAEVV010000099</th>\n      <th>Ea6_96_NZ_JAAEVB010000099</th>\n      <th>Ea8_96_NZ_JAAEUY010000099_reversed</th>\n      <th>Ea04_03_NZ_JAAEWE010000099</th>\n      <th>Ea1_98_NZ_JAAEVT010000099</th>\n      <th>Ea7_96_NZ_JAAEUZ010000099_4bases deleted</th>\n      <th>Ea2_95_NZ_JAAEVS010000009</th>\n      <th>EaLevo2_NZ_JAAEUQ010000009</th>\n      <th>Ea1_97_NZ_JAAEVU010000099</th>\n      <th>Ea2_97_NZ_JAAEVQ010000099</th>\n      <th>Ea3_97_NZ_JAAEVM010000099</th>\n      <th>Ea4_96_NZ_JAAEVG010000099_reverse_complement</th>\n      <th>Ea644_NZ_CAPD00000000.1</th>\n      <th>MR1_NZ_CAPE00000000</th>\n    </tr>\n  </thead>\n  <tbody>\n    <tr>\n      <th>0</th>\n      <td>&gt;spacer1</td>\n      <td>&gt;spacer1</td>\n      <td>&gt;spacer1</td>\n      <td>&gt;spacer1</td>\n      <td>&gt;spacer1</td>\n      <td>&gt;spacer1</td>\n      <td>&gt;spacer1</td>\n      <td>&gt;spacer1</td>\n      <td>&gt;spacer1</td>\n      <td>&gt;spacer1</td>\n      <td>&gt;spacer1</td>\n      <td>&gt;spacer1</td>\n      <td>&gt;spacer1</td>\n      <td>&gt;spacer1</td>\n      <td>&gt;spacer1</td>\n      <td>&gt;spacer1</td>\n    </tr>\n    <tr>\n      <th>1</th>\n      <td>TTACGTTTGCGTTAACAGTAAGCTCTGCAAC</td>\n      <td>TTACGTTTGCGTTAACAGTAAGCTCTGCAAC</td>\n      <td>CCAGAGGACAACTTTCCGCCTTTTCTCTGCGT</td>\n      <td>GAATTTACGTTTGCGTTAACAGTAAGCTCTGCAAC</td>\n      <td>ATCGCACCCCACTGATTGAAGAGCAGCACACT</td>\n      <td>GAATTTACGTTTGCGTTAACAGTAAGCTCTGCAAC</td>\n      <td>TTACGTTTGCGTTAACAGTAAGCTCTGCAAC</td>\n      <td>TTACGTTTGCGTTAACAGTAAGCTCTGCAAC</td>\n      <td>GAATTTACGTTTGCGTTAACAGTAAGCTCTGCAAC</td>\n      <td>TTACGTTTGCGTTAACAGTAAGCTCTGCAAC</td>\n      <td>TTACGTTTGCGTTAACAGTAAGCTCTGCAAC</td>\n      <td>GAATTTACGTTTGCGTTAACAGTAAGCTCTGCAAC</td>\n      <td>TTACGTTTGCGTTAACAGTAAGCTCTGCAAC</td>\n      <td>TTACGTTTGCGTTAACAGTAAGCTCTGCAAC</td>\n      <td>TTACGTTTGCGTTAACAGTAAGCTCTGCAAC</td>\n      <td>TTACGTTTGCGTTAACAGTAAGCTCTGCAAC</td>\n    </tr>\n    <tr>\n      <th>2</th>\n      <td>&gt;spacer2</td>\n      <td>&gt;spacer2</td>\n      <td>&gt;spacer2</td>\n      <td>&gt;spacer2</td>\n      <td>&gt;spacer2</td>\n      <td>&gt;spacer2</td>\n      <td>&gt;spacer2</td>\n      <td>&gt;spacer2</td>\n      <td>&gt;spacer2</td>\n      <td>&gt;spacer2</td>\n      <td>&gt;spacer2</td>\n      <td>&gt;spacer2</td>\n      <td>&gt;spacer2</td>\n      <td>&gt;spacer2</td>\n      <td>&gt;spacer2</td>\n      <td>&gt;spacer2</td>\n    </tr>\n    <tr>\n      <th>3</th>\n      <td>GGCTAAATGCCTGAATTCAACGTTCTACAAAA</td>\n      <td>GGCTAAATGCCTGAATTCAACGTTCTACAAAA</td>\n      <td>AGGTGGCGGAATACGGCAACGAGTGGATAACT</td>\n      <td>GAAAGGCTAAATGCCTGAATTCAACGTTCTACAAAA</td>\n      <td>GAGCAATATATTCGATAGACGCTGATTTGCGT</td>\n      <td>GAAAGGCTAAATGCCTGAATTCAACGTTCTACAAAA</td>\n      <td>GGCTAAATGCCTGAATTCAACGTTCTACAAAA</td>\n      <td>GGCTAAATGCCTGAATTCAACGTTCTACAAAA</td>\n      <td>GAAAGGCTAAATGCCTGAATTCAACGTTCTACAAAA</td>\n      <td>GGCTAAATGCCTGAATTCAACGTTCTACAAAA</td>\n      <td>GAGCAATATATTCGATAGACGCTGATTTGCGT</td>\n      <td>GAAAGGCTAAATGCCTGAATTCAACGTTCTACAAAA</td>\n      <td>GGCTAAATGCCTGAATTCAACGTTCTACAAAA</td>\n      <td>GGCTAAATGCCTGAATTCAACGTTCTACAAAA</td>\n      <td>GGCTAAATGCCTGAATTCAACGTTCTACAAAA</td>\n      <td>GGCTAAATGCCTGAATTCAACGTTCTACAAAA</td>\n    </tr>\n    <tr>\n      <th>4</th>\n      <td>&gt;spacer3</td>\n      <td>&gt;spacer3</td>\n      <td>&gt;spacer3</td>\n      <td>&gt;spacer3</td>\n      <td>&gt;spacer3</td>\n      <td>&gt;spacer3</td>\n      <td>&gt;spacer3</td>\n      <td>&gt;spacer3</td>\n      <td>&gt;spacer3</td>\n      <td>&gt;spacer3</td>\n      <td>&gt;spacer3</td>\n      <td>&gt;spacer3</td>\n      <td>&gt;spacer3</td>\n      <td>&gt;spacer3</td>\n      <td>&gt;spacer3</td>\n      <td>&gt;spacer3</td>\n    </tr>\n    <tr>\n      <th>5</th>\n      <td>GAAAATCGCACCCCACTGATTGAAGAGCAGCACACT</td>\n      <td>ATCGCACCCCACTGATTGAAGAGCAGCACACT</td>\n      <td>CGGATCACCTCTTCGCCCAGCCAGCTGTTCAG</td>\n      <td>GAAAATCGCACCCCACTGATTGAAGAGCAGCACACT</td>\n      <td>TGGCTTCAATTGCGGTCGGGTGTGATGCATCA</td>\n      <td>GAAAATCGCACCCCACTGATTGAAGAGCAGCACACT</td>\n      <td>ATCGCACCCCACTGATTGAAGAGCAGCACACT</td>\n      <td>ATCGCACCCCACTGATTGAAGAGCAGCACACT</td>\n      <td>GAAAATCGCACCCCACTGATTGAAGAGCAGCACACT</td>\n      <td>ATCGCACCCCACTGATTGAAGAGCAGCACACT</td>\n      <td>TGGCTTCAATTGCGGTCGGGTGTGATGCATCA</td>\n      <td>GAAAATCGCACCCCACTGATTGAAGAGCAGCACACT</td>\n      <td>ATCGCACCCCACTGATTGAAGAGCAGCACACT</td>\n      <td>ATCGCACCCCACTGATTGAAGAGCAGCACACT</td>\n      <td>ATCGCACCCCACTGATTGAAGAGCAGCACACT</td>\n      <td>ATCGCACCCCACTGATTGAAGAGCAGCACACT</td>\n    </tr>\n    <tr>\n      <th>6</th>\n      <td>&gt;spacer4</td>\n      <td>&gt;spacer4</td>\n      <td>&gt;spacer4</td>\n      <td>&gt;spacer4</td>\n      <td>&gt;spacer4</td>\n      <td>&gt;spacer4</td>\n      <td>&gt;spacer4</td>\n      <td>&gt;spacer4</td>\n      <td>&gt;spacer4</td>\n      <td>&gt;spacer4</td>\n      <td>&gt;spacer4</td>\n      <td>&gt;spacer4</td>\n      <td>&gt;spacer4</td>\n      <td>&gt;spacer4</td>\n      <td>&gt;spacer4</td>\n      <td>&gt;spacer4</td>\n    </tr>\n    <tr>\n      <th>7</th>\n      <td>TAAAGAGCAATATATTCGATAGACGCTGATTTGCGT</td>\n      <td>GAGCAATATATTCGATAGACGCTGATTTGCGT</td>\n      <td>GAGCAATATATTCGATAGACGCTGATTTGCGT</td>\n      <td>TAAAGAGCAATATATTCGATAGACGCTGATTTGCGT</td>\n      <td>GCCAACGTTCACTGTCATTTAGCCACGCTTCGG</td>\n      <td>TAAAGAGCAATATATTCGATAGACGCTGATTTGCGT</td>\n      <td>GAGCAATATATTCGATAGACGCTGATTTGCGT</td>\n      <td>GAGCAATATATTCGATAGACGCTGATTTGCGT</td>\n      <td>TAAAGAGCAATATATTCGATAGACGCTGATTTGCGT</td>\n      <td>GAGCAATATATTCGATAGACGCTGATTTGCGT</td>\n      <td>GCCAACGTTCACTGTCATTTAGCCACGCTTCGG</td>\n      <td>TAAAGAGCAATATATTCGATAGACGCTGATTTGCGT</td>\n      <td>GAGCAATATATTCGATAGACGCTGATTTGCGT</td>\n      <td>GAGCAATATATTCGATAGACGCTGATTTGCGT</td>\n      <td>GAGCAATATATTCGATAGACGCTGATTTGCGT</td>\n      <td>GAGCAATATATTCGATAGACGCTGATTTGCGT</td>\n    </tr>\n    <tr>\n      <th>8</th>\n      <td>&gt;spacer5</td>\n      <td>&gt;spacer5</td>\n      <td>&gt;spacer5</td>\n      <td>&gt;spacer5</td>\n      <td>NaN</td>\n      <td>&gt;spacer5</td>\n      <td>&gt;spacer5</td>\n      <td>&gt;spacer5</td>\n      <td>&gt;spacer5</td>\n      <td>&gt;spacer5</td>\n      <td>NaN</td>\n      <td>&gt;spacer5</td>\n      <td>&gt;spacer5</td>\n      <td>&gt;spacer5</td>\n      <td>&gt;spacer5</td>\n      <td>&gt;spacer5</td>\n    </tr>\n    <tr>\n      <th>9</th>\n      <td>GAAATGGCTTCAATTGCGGTCGGGTGTGATGCATCA</td>\n      <td>TGGCTTCAATTGCGGTCGGGTGTGATGCATCA</td>\n      <td>TGGCTTCAATTGCGGTCGGGTGTGATGCATCA</td>\n      <td>GAAATGGCTTCAATTGCGGTCGGGTGTGATGCATCA</td>\n      <td>NaN</td>\n      <td>GAAATGGCTTCAATTGCGGTCGGGTGTGATGCATCA</td>\n      <td>TGGCTTCAATTGCGGTCGGGTGTGATGCATCA</td>\n      <td>TGGCTTCAATTGCGGTCGGGTGTGATGCATCA</td>\n      <td>GAAATGGCTTCAATTGCGGTCGGGTGTGATGCATCA</td>\n      <td>TGGCTTCAATTGCGGTCGGGTGTGATGCATCA</td>\n      <td>NaN</td>\n      <td>GAAATGGCTTCAATTGCGGTCGGGTGTGATGCATCA</td>\n      <td>TGGCTTCAATTGCGGTCGGGTGTGATGCATCA</td>\n      <td>TGGCTTCAATTGCGGTCGGGTGTGATGCATCA</td>\n      <td>TGGCTTCAATTGCGGTCGGGTGTGATGCATCA</td>\n      <td>TGGCTTCAATTGCGGTCGGGTGTGATGCATCA</td>\n    </tr>\n    <tr>\n      <th>10</th>\n      <td>&gt;spacer6</td>\n      <td>&gt;spacer6</td>\n      <td>&gt;spacer6</td>\n      <td>&gt;spacer6</td>\n      <td>NaN</td>\n      <td>&gt;spacer6</td>\n      <td>&gt;spacer6</td>\n      <td>&gt;spacer6</td>\n      <td>&gt;spacer6</td>\n      <td>&gt;spacer6</td>\n      <td>NaN</td>\n      <td>&gt;spacer6</td>\n      <td>&gt;spacer6</td>\n      <td>&gt;spacer6</td>\n      <td>&gt;spacer6</td>\n      <td>&gt;spacer6</td>\n    </tr>\n    <tr>\n      <th>11</th>\n      <td>GAAAGCCAACGTTCACTGTCATTTAGCCACGCTTCGG</td>\n      <td>GCCAACGTTCACTGTCATTTAGCCACGCTTCGG</td>\n      <td>GCCAACGTTCACTGTCATTTAGCCACGCTTCGG</td>\n      <td>GAAAGCCAACGTTCACTGTCATTTAGCCACGCTTCGG</td>\n      <td>NaN</td>\n      <td>GAAAGCCAACGTTCACTGTCATTTAGCCACGCTTCGG</td>\n      <td>GCCAACGTTCACTGTCATTTAGCCACGCTTCGG</td>\n      <td>GCCAACGTTCACTGTCATTTAGCCACGCTTCGG</td>\n      <td>GAAAGCCAACGTTCACTGTCATTTAGCCACGCTTCGG</td>\n      <td>GCCAACGTTCACTGTCATTTAGCCACGCTTCGG</td>\n      <td>NaN</td>\n      <td>GAAAGCCAACGTTCACTGTCATTTAGCCACGCTTCGG</td>\n      <td>GCCAACGTTCACTGTCATTTAGCCACGCTTCGG</td>\n      <td>GCCAACGTTCACTGTCATTTAGCCACGCTTCGG</td>\n      <td>GCCAACGTTCACTGTCATTTAGCCACGCTTCGG</td>\n      <td>GCCAACGTTCACTGTCATTTAGCCACGCTTCGG</td>\n    </tr>\n    <tr>\n      <th>12</th>\n      <td>NaN</td>\n      <td>NaN</td>\n      <td>NaN</td>\n      <td>NaN</td>\n      <td>NaN</td>\n      <td>NaN</td>\n      <td>NaN</td>\n      <td>NaN</td>\n      <td>NaN</td>\n      <td>NaN</td>\n      <td>NaN</td>\n      <td>vier basen am afang</td>\n      <td>NaN</td>\n      <td>NaN</td>\n      <td>NaN</td>\n      <td>NaN</td>\n    </tr>\n  </tbody>\n</table>\n</div>"
     },
     "metadata": {},
     "execution_count": 136
    }
   ],
   "source": [
    "df "
   ]
  },
  {
   "cell_type": "code",
   "execution_count": 88,
   "id": "5a0511fd",
   "metadata": {},
   "outputs": [
    {
     "output_type": "stream",
     "name": "stdout",
     "text": [
      "Requirement already satisfied: biopython in /usr/local/anaconda3/lib/python3.8/site-packages (1.79)\nRequirement already satisfied: numpy in /usr/local/anaconda3/lib/python3.8/site-packages (from biopython) (1.20.1)\n"
     ]
    }
   ],
   "source": []
  },
  {
   "cell_type": "code",
   "execution_count": 137,
   "id": "66020415",
   "metadata": {},
   "outputs": [],
   "source": [
    "### Create a dictionary, where strains are stored in key format and spacers stored in values. Note that dictionary elements are accessed via keys, not their position/order. \n",
    "\n",
    "dic = {}\n",
    "keys = list(df.columns) # keys variables stored as strain names and made a list form of it due data format of \"df.columns\" is in pandas.core.indexes.base.Index\n",
    "values = []\n",
    "#len(keys) #check up how many strains?\n"
   ]
  },
  {
   "cell_type": "code",
   "execution_count": 138,
   "metadata": {},
   "outputs": [],
   "source": [
    "### Spacers are stored from Dataframe (=df.loc) into a list (=values) and put into the dictionary \"dic\". Now we have our first dictionary with strains as keys and spacers as values stored.\n",
    "def check_begin(x):\n",
    "    # check the len of split [0] \n",
    "    # for the bases AAA with 4 Nucleo acid\n",
    "    if len(x[0:4].split('AAA')[0]) == 1:\n",
    "        # strip() removes white spaces in begining and end\n",
    "        return x[4:].strip()\n",
    "   \n",
    "    return x.strip()\n",
    "\n",
    "for key in keys: #key = a loop through all strains\n",
    "    temp = []\n",
    "\n",
    "    for val in df.loc[:,key]: #variables val stands for the line entries, note here that datatype of  val is string and float. Float object has no attribute \"startswith\"\n",
    "        try:\n",
    "            if val.startswith('>spacer'): #error: 'float' object has no attribute 'startswith'\n",
    "                None\n",
    "            elif (val.startswith('A') | val.startswith('G') | val.startswith('C') | val.startswith('T')):\n",
    "                temp.append(check_begin(val))\n",
    "            else:\n",
    "                None\n",
    "        except:\n",
    "            pass\n",
    "    values.append(temp)\n",
    "#chek up: for item in temp:\n",
    "\n",
    "for key in keys:\n",
    "    dic[key] = values.pop(0) #pop() is an inbuilt function in Python that removes and returns last value from the list or the given index value.\n",
    "#dic\n",
    "\n",
    "#fill the gaps:\n",
    "\n",
    "for k, v in dic.items():\n",
    "    if k.startswith('Ea1_97'):\n",
    "        dic[k].insert(1, 'None')\n",
    "        dic[k].insert(2, 'None')\n",
    "    elif k.startswith('Ea8_96'):\n",
    "        dic[k].insert(0, 'None')\n",
    "        dic[k].insert(1, 'None')"
   ]
  },
  {
   "cell_type": "code",
   "execution_count": 139,
   "metadata": {},
   "outputs": [
    {
     "output_type": "execute_result",
     "data": {
      "text/plain": [
       "['TTACGTTTGCGTTAACAGTAAGCTCTGCAAC',\n",
       " 'GGCTAAATGCCTGAATTCAACGTTCTACAAAA',\n",
       " 'ATCGCACCCCACTGATTGAAGAGCAGCACACT',\n",
       " 'GAGCAATATATTCGATAGACGCTGATTTGCGT',\n",
       " 'TGGCTTCAATTGCGGTCGGGTGTGATGCATCA',\n",
       " 'GCCAACGTTCACTGTCATTTAGCCACGCTTCGG',\n",
       " 'CCAGAGGACAACTTTCCGCCTTTTCTCTGCGT',\n",
       " 'AGGTGGCGGAATACGGCAACGAGTGGATAACT',\n",
       " 'CGGATCACCTCTTCGCCCAGCCAGCTGTTCAG',\n",
       " 'GAATTTACGTTTGCGTTAACAGTAAGCTCTGCAAC']"
      ]
     },
     "metadata": {},
     "execution_count": 139
    }
   ],
   "source": [
    "### create an unique list of spacers, which appear just once in the whole dictionary:\n",
    "\n",
    "unique = []\n",
    "unique1 = []\n",
    "for d in dic.values():\n",
    "    unique.append(d)\n",
    "\n",
    "\n",
    "#unique = list(set(list(np.array(unique).flatten())))\n",
    "#for i in unique:\n",
    "#    print(len(i))\n",
    "for i in list(np.array(unique).flatten()): #here problems with ndarrays with different lengths or shapes\n",
    "    if i not in unique1:\n",
    "        unique1.append(i)\n",
    "\n",
    "unique1.remove(\"None\")\n",
    "unique1"
   ]
  },
  {
   "cell_type": "code",
   "execution_count": 140,
   "metadata": {},
   "outputs": [
    {
     "output_type": "stream",
     "name": "stdout",
     "text": [
      "match\nAGGTGGCGGAATACGGCAACGAGTGGATAACT 32\nAGGTGGCGGAATACGGCAACGAGTGGATAACT 32\n32.0\n"
     ]
    }
   ],
   "source": [
    "### Comparison\n",
    "\n",
    "seq2 = Seq(\"AGGTGGCGGAATACGGCAACGAGTGGATAACT\")\n",
    "seq1 = Seq(\"AGGTGGCGGAATACGGCAACGAGTGGATAACT\")\n",
    "# list of seq to remove\n",
    "remove = []\n",
    "\n",
    "# list to replace contains the seq which replace the removed seq\n",
    "replace = []\n",
    "\n",
    "\n",
    "def cal_score(x, y):\n",
    "    seq1 = x\n",
    "    seq2 = y\n",
    "    # Finding similarities\n",
    "    alignments = pairwise2.align.globalxx(seq1, seq2)\n",
    "    scores = 0 \n",
    "    # Showing results\n",
    "    for alignment in alignments:\n",
    "    #print(type(alignment))\n",
    "    #print(alignment.score)\n",
    "    #print(format_alignment(*alignment))\n",
    "        scores = alignment.score + scores\n",
    "    #print(len(alignments))\n",
    "        #print(format_alignment(*alignment))\n",
    "    #print(seq1, len(seq1))\n",
    "    #print(seq2, len(seq2))\n",
    "\n",
    "    score = scores/len(alignments)\n",
    "\n",
    "    #print(scores/len(alignments))\n",
    "\n",
    "    if ((len(seq1) != len(seq2)) & (score == (min(len(seq1), len(seq2))))):\n",
    "        print('match')\n",
    "        print(seq1, len(seq1))\n",
    "        print(seq2, len(seq2))\n",
    "        print(score)\n",
    "        \n",
    "        remove.append(seq1 if len(seq1) > len(seq2) else seq2)\n",
    "        replace.append(seq2 if len(seq1) > len(seq2) else seq1)\n",
    "        # remove the larger one when they are of different length\n",
    "        unique1.remove(seq1 if len(seq1) > len(seq2) else seq2)\n",
    "\n",
    "\n",
    "    elif (len(seq1) == len(seq2)) & (score >= (len(seq1) - 4)):\n",
    "        print('match')\n",
    "        print(seq1, len(seq1))\n",
    "        print(seq2, len(seq2))\n",
    "        print(score)\n",
    "        unique1.remove(seq1)\n",
    "    else:\n",
    "        None\n",
    "        #print('nomatch')\n",
    "        \n",
    "cal_score(seq1,seq2)\n"
   ]
  },
  {
   "cell_type": "code",
   "execution_count": 141,
   "metadata": {},
   "outputs": [
    {
     "output_type": "stream",
     "name": "stdout",
     "text": [
      "match\nTTACGTTTGCGTTAACAGTAAGCTCTGCAAC 31\nGAATTTACGTTTGCGTTAACAGTAAGCTCTGCAAC 35\n31.0\n"
     ]
    }
   ],
   "source": [
    "### Compare if the spacers in the unique list are not same, rendundant. \n",
    "for i in range(len(unique1)):\n",
    "    for j in unique1[i + 1:]:\n",
    "        (cal_score(unique1[i], j))"
   ]
  },
  {
   "cell_type": "code",
   "execution_count": 142,
   "metadata": {},
   "outputs": [
    {
     "output_type": "execute_result",
     "data": {
      "text/plain": [
       "['TTACGTTTGCGTTAACAGTAAGCTCTGCAAC']"
      ]
     },
     "metadata": {},
     "execution_count": 142
    }
   ],
   "source": [
    "# this indicates the seq removed\n",
    "# we keep track to replace this in dic file with \n",
    "remove\n",
    "replace"
   ]
  },
  {
   "cell_type": "code",
   "execution_count": 143,
   "metadata": {},
   "outputs": [],
   "source": [
    "#replace the spacers\n",
    "for key, val in dic.items():\n",
    "    for index, item in enumerate(remove):\n",
    "        for n, i in enumerate(val):\n",
    "            if i == item:\n",
    "                val[n] = replace[index]\n",
    "    dic[key] = val\n"
   ]
  },
  {
   "cell_type": "code",
   "execution_count": 149,
   "metadata": {},
   "outputs": [],
   "source": [
    "keys = list(dic.keys())\n",
    "df = pd.DataFrame(columns=['Identifier', 'Unique'] + keys)\n",
    "df.Unique = unique1\n",
    "df.Identifier= df.index+3001\n",
    "df = df.fillna('')\n",
    "df.index=np.arange(1,len(df)+1)\n",
    "\n",
    "for col in df.columns[2:]: #column 2 starts with the strains\n",
    "    match_position= []\n",
    "    for j in range(len(dic[col])):\n",
    "        if dic[col][j] in unique1:\n",
    "            match_position.append(unique1.index(dic[col][j]) + 1)\n",
    "    df.loc[match_position,col] = 1\n",
    "\n",
    "keys = []\n",
    "for i in list(df.columns):\n",
    "    keys.append(i.split('_NZ')[0]) #abkürzung\n",
    "\n",
    "df.columns = keys\n",
    "df.to_excel('CRISPR_Cluster_Analysis_CRR3_Rubus.xlsx')"
   ]
  },
  {
   "cell_type": "code",
   "execution_count": null,
   "metadata": {},
   "outputs": [],
   "source": []
  },
  {
   "cell_type": "code",
   "execution_count": null,
   "metadata": {},
   "outputs": [],
   "source": []
  },
  {
   "cell_type": "code",
   "execution_count": null,
   "metadata": {},
   "outputs": [],
   "source": []
  },
  {
   "cell_type": "code",
   "execution_count": null,
   "metadata": {},
   "outputs": [],
   "source": []
  },
  {
   "cell_type": "code",
   "execution_count": null,
   "metadata": {},
   "outputs": [],
   "source": []
  },
  {
   "cell_type": "code",
   "execution_count": null,
   "metadata": {},
   "outputs": [],
   "source": []
  },
  {
   "cell_type": "code",
   "execution_count": null,
   "metadata": {},
   "outputs": [],
   "source": []
  },
  {
   "cell_type": "code",
   "execution_count": null,
   "metadata": {},
   "outputs": [],
   "source": []
  },
  {
   "cell_type": "code",
   "execution_count": null,
   "metadata": {},
   "outputs": [],
   "source": []
  },
  {
   "cell_type": "code",
   "execution_count": null,
   "metadata": {},
   "outputs": [],
   "source": []
  },
  {
   "cell_type": "code",
   "execution_count": null,
   "metadata": {},
   "outputs": [],
   "source": []
  },
  {
   "cell_type": "code",
   "execution_count": null,
   "metadata": {},
   "outputs": [],
   "source": []
  },
  {
   "cell_type": "code",
   "execution_count": null,
   "metadata": {},
   "outputs": [],
   "source": []
  },
  {
   "cell_type": "code",
   "execution_count": null,
   "metadata": {},
   "outputs": [],
   "source": []
  },
  {
   "cell_type": "code",
   "execution_count": null,
   "metadata": {},
   "outputs": [],
   "source": []
  },
  {
   "cell_type": "code",
   "execution_count": null,
   "metadata": {},
   "outputs": [],
   "source": []
  },
  {
   "cell_type": "code",
   "execution_count": null,
   "metadata": {},
   "outputs": [],
   "source": []
  },
  {
   "cell_type": "code",
   "execution_count": null,
   "metadata": {},
   "outputs": [],
   "source": []
  },
  {
   "cell_type": "code",
   "execution_count": null,
   "metadata": {},
   "outputs": [],
   "source": []
  },
  {
   "cell_type": "code",
   "execution_count": null,
   "metadata": {},
   "outputs": [],
   "source": []
  },
  {
   "cell_type": "code",
   "execution_count": null,
   "metadata": {},
   "outputs": [],
   "source": []
  },
  {
   "cell_type": "code",
   "execution_count": null,
   "metadata": {},
   "outputs": [],
   "source": []
  },
  {
   "cell_type": "code",
   "execution_count": null,
   "metadata": {},
   "outputs": [],
   "source": []
  },
  {
   "cell_type": "code",
   "execution_count": null,
   "metadata": {},
   "outputs": [],
   "source": []
  },
  {
   "cell_type": "code",
   "execution_count": null,
   "metadata": {},
   "outputs": [],
   "source": []
  },
  {
   "cell_type": "code",
   "execution_count": null,
   "metadata": {},
   "outputs": [],
   "source": []
  },
  {
   "cell_type": "code",
   "execution_count": null,
   "metadata": {},
   "outputs": [],
   "source": []
  },
  {
   "cell_type": "code",
   "execution_count": null,
   "metadata": {},
   "outputs": [],
   "source": []
  },
  {
   "cell_type": "code",
   "execution_count": null,
   "metadata": {},
   "outputs": [],
   "source": []
  },
  {
   "cell_type": "code",
   "execution_count": null,
   "metadata": {},
   "outputs": [],
   "source": []
  },
  {
   "cell_type": "code",
   "execution_count": null,
   "metadata": {},
   "outputs": [],
   "source": []
  },
  {
   "cell_type": "code",
   "execution_count": null,
   "metadata": {},
   "outputs": [],
   "source": []
  },
  {
   "cell_type": "code",
   "execution_count": null,
   "metadata": {},
   "outputs": [],
   "source": []
  },
  {
   "cell_type": "code",
   "execution_count": null,
   "metadata": {},
   "outputs": [],
   "source": []
  },
  {
   "cell_type": "code",
   "execution_count": null,
   "metadata": {},
   "outputs": [],
   "source": []
  },
  {
   "cell_type": "code",
   "execution_count": null,
   "metadata": {},
   "outputs": [],
   "source": []
  },
  {
   "cell_type": "code",
   "execution_count": null,
   "metadata": {},
   "outputs": [],
   "source": []
  },
  {
   "cell_type": "code",
   "execution_count": null,
   "metadata": {},
   "outputs": [],
   "source": []
  },
  {
   "cell_type": "code",
   "execution_count": null,
   "metadata": {},
   "outputs": [],
   "source": []
  },
  {
   "cell_type": "code",
   "execution_count": null,
   "metadata": {},
   "outputs": [],
   "source": []
  },
  {
   "cell_type": "code",
   "execution_count": null,
   "metadata": {},
   "outputs": [],
   "source": []
  },
  {
   "cell_type": "code",
   "execution_count": null,
   "metadata": {},
   "outputs": [],
   "source": []
  },
  {
   "cell_type": "code",
   "execution_count": null,
   "metadata": {},
   "outputs": [],
   "source": []
  },
  {
   "cell_type": "code",
   "execution_count": null,
   "metadata": {},
   "outputs": [],
   "source": []
  },
  {
   "cell_type": "code",
   "execution_count": null,
   "metadata": {},
   "outputs": [],
   "source": []
  },
  {
   "cell_type": "code",
   "execution_count": null,
   "metadata": {},
   "outputs": [],
   "source": []
  },
  {
   "cell_type": "code",
   "execution_count": null,
   "metadata": {},
   "outputs": [],
   "source": []
  },
  {
   "cell_type": "code",
   "execution_count": null,
   "metadata": {},
   "outputs": [],
   "source": []
  },
  {
   "cell_type": "code",
   "execution_count": null,
   "metadata": {},
   "outputs": [],
   "source": []
  },
  {
   "cell_type": "code",
   "execution_count": null,
   "metadata": {},
   "outputs": [],
   "source": []
  },
  {
   "cell_type": "code",
   "execution_count": null,
   "metadata": {},
   "outputs": [],
   "source": []
  },
  {
   "cell_type": "code",
   "execution_count": null,
   "metadata": {},
   "outputs": [],
   "source": []
  },
  {
   "cell_type": "code",
   "execution_count": null,
   "metadata": {},
   "outputs": [],
   "source": []
  },
  {
   "cell_type": "code",
   "execution_count": null,
   "metadata": {},
   "outputs": [],
   "source": []
  },
  {
   "cell_type": "code",
   "execution_count": null,
   "metadata": {},
   "outputs": [],
   "source": []
  },
  {
   "cell_type": "code",
   "execution_count": null,
   "metadata": {},
   "outputs": [],
   "source": []
  },
  {
   "cell_type": "code",
   "execution_count": null,
   "metadata": {},
   "outputs": [],
   "source": []
  },
  {
   "cell_type": "code",
   "execution_count": null,
   "metadata": {},
   "outputs": [],
   "source": []
  },
  {
   "cell_type": "code",
   "execution_count": null,
   "metadata": {},
   "outputs": [],
   "source": []
  },
  {
   "cell_type": "code",
   "execution_count": null,
   "metadata": {},
   "outputs": [],
   "source": []
  },
  {
   "cell_type": "code",
   "execution_count": null,
   "metadata": {},
   "outputs": [],
   "source": []
  },
  {
   "cell_type": "code",
   "execution_count": null,
   "metadata": {},
   "outputs": [],
   "source": []
  },
  {
   "cell_type": "code",
   "execution_count": null,
   "metadata": {},
   "outputs": [],
   "source": []
  },
  {
   "cell_type": "code",
   "execution_count": null,
   "metadata": {},
   "outputs": [],
   "source": []
  },
  {
   "cell_type": "code",
   "execution_count": null,
   "metadata": {},
   "outputs": [],
   "source": []
  },
  {
   "cell_type": "code",
   "execution_count": null,
   "metadata": {},
   "outputs": [],
   "source": []
  },
  {
   "cell_type": "code",
   "execution_count": null,
   "metadata": {},
   "outputs": [],
   "source": []
  },
  {
   "cell_type": "code",
   "execution_count": null,
   "metadata": {},
   "outputs": [],
   "source": []
  },
  {
   "cell_type": "code",
   "execution_count": null,
   "metadata": {},
   "outputs": [],
   "source": []
  },
  {
   "cell_type": "code",
   "execution_count": null,
   "metadata": {},
   "outputs": [],
   "source": []
  },
  {
   "cell_type": "code",
   "execution_count": null,
   "metadata": {},
   "outputs": [],
   "source": []
  },
  {
   "cell_type": "code",
   "execution_count": null,
   "metadata": {},
   "outputs": [],
   "source": []
  },
  {
   "cell_type": "code",
   "execution_count": null,
   "metadata": {},
   "outputs": [],
   "source": []
  },
  {
   "cell_type": "code",
   "execution_count": null,
   "metadata": {},
   "outputs": [],
   "source": []
  },
  {
   "cell_type": "code",
   "execution_count": null,
   "metadata": {},
   "outputs": [],
   "source": []
  },
  {
   "cell_type": "code",
   "execution_count": null,
   "metadata": {},
   "outputs": [],
   "source": []
  },
  {
   "cell_type": "code",
   "execution_count": null,
   "metadata": {},
   "outputs": [],
   "source": []
  },
  {
   "cell_type": "code",
   "execution_count": null,
   "metadata": {},
   "outputs": [],
   "source": []
  },
  {
   "cell_type": "code",
   "execution_count": null,
   "metadata": {},
   "outputs": [],
   "source": []
  }
 ],
 "metadata": {
  "kernelspec": {
   "name": "python3",
   "display_name": "Python 3.8.8 64-bit ('base': conda)"
  },
  "language_info": {
   "codemirror_mode": {
    "name": "ipython",
    "version": 3
   },
   "file_extension": ".py",
   "mimetype": "text/x-python",
   "name": "python",
   "nbconvert_exporter": "python",
   "pygments_lexer": "ipython3",
   "version": "3.8.8"
  },
  "interpreter": {
   "hash": "e134e05457d34029b6460cd73bbf1ed73f339b5b6d98c95be70b69eba114fe95"
  }
 },
 "nbformat": 4,
 "nbformat_minor": 5
}